{
 "cells": [
  {
   "cell_type": "markdown",
   "id": "15acfedd-bad3-41da-b1d2-7d4657fd5d89",
   "metadata": {},
   "source": [
    "## Intro"
   ]
  },
  {
   "cell_type": "code",
   "execution_count": 2,
   "id": "2658d847-1a49-4a08-8756-b792323adaf8",
   "metadata": {},
   "outputs": [],
   "source": [
    "import fastbook\n",
    "fastbook.setup_book()"
   ]
  },
  {
   "cell_type": "code",
   "execution_count": 3,
   "id": "1c7c4fda-2570-431a-9dc9-ce41d26df921",
   "metadata": {},
   "outputs": [],
   "source": [
    "from fastai.vision.all import *\n",
    "from fastbook import *\n",
    "\n",
    "matplotlib.rc('image', cmap='Grays')"
   ]
  },
  {
   "cell_type": "markdown",
   "id": "79dcb6c7-842b-40af-a189-0f9eb3505761",
   "metadata": {},
   "source": [
    "This note book works on the MNIST dataset. Using deep learning to identify between 3 and 7s.\n",
    "\n",
    "First download the dataset."
   ]
  },
  {
   "cell_type": "code",
   "execution_count": 4,
   "id": "503dedce-4e53-498a-b141-e6b952a7b53f",
   "metadata": {},
   "outputs": [
    {
     "data": {
      "text/plain": [
       "'https://s3.amazonaws.com/fast-ai-sample/mnist_sample.tgz'"
      ]
     },
     "execution_count": 4,
     "metadata": {},
     "output_type": "execute_result"
    }
   ],
   "source": [
    "URLs.MNIST_SAMPLE"
   ]
  },
  {
   "cell_type": "code",
   "execution_count": 5,
   "id": "c5058f92-2cc1-4b11-abe8-df8596921c34",
   "metadata": {},
   "outputs": [
    {
     "data": {
      "text/plain": [
       "(#3) [Path('../datasets/mnist_sample/valid'),Path('../datasets/mnist_sample/train'),Path('../datasets/mnist_sample/labels.csv')]"
      ]
     },
     "execution_count": 5,
     "metadata": {},
     "output_type": "execute_result"
    }
   ],
   "source": [
    "path = Path('../datasets/mnist_sample')\n",
    "path.ls()"
   ]
  },
  {
   "cell_type": "code",
   "execution_count": 6,
   "id": "663088a2-31a9-4e9c-accf-35366571e58d",
   "metadata": {},
   "outputs": [
    {
     "data": {
      "text/plain": [
       "(#2) [Path('../datasets/mnist_sample/train/3'),Path('../datasets/mnist_sample/train/7')]"
      ]
     },
     "execution_count": 6,
     "metadata": {},
     "output_type": "execute_result"
    }
   ],
   "source": [
    "(path/'train').ls()"
   ]
  },
  {
   "cell_type": "code",
   "execution_count": 7,
   "id": "2c8d3419-6a7f-4738-98aa-f912a9778331",
   "metadata": {},
   "outputs": [
    {
     "data": {
      "text/plain": [
       "(#6131) [Path('../datasets/mnist_sample/train/3/10.png'),Path('../datasets/mnist_sample/train/3/10000.png'),Path('../datasets/mnist_sample/train/3/10011.png'),Path('../datasets/mnist_sample/train/3/10031.png'),Path('../datasets/mnist_sample/train/3/10034.png'),Path('../datasets/mnist_sample/train/3/10042.png'),Path('../datasets/mnist_sample/train/3/10052.png'),Path('../datasets/mnist_sample/train/3/1007.png'),Path('../datasets/mnist_sample/train/3/10074.png'),Path('../datasets/mnist_sample/train/3/10091.png'),Path('../datasets/mnist_sample/train/3/10093.png'),Path('../datasets/mnist_sample/train/3/10097.png'),Path('../datasets/mnist_sample/train/3/10099.png'),Path('../datasets/mnist_sample/train/3/10116.png'),Path('../datasets/mnist_sample/train/3/10125.png'),Path('../datasets/mnist_sample/train/3/10137.png'),Path('../datasets/mnist_sample/train/3/10141.png'),Path('../datasets/mnist_sample/train/3/10144.png'),Path('../datasets/mnist_sample/train/3/10155.png'),Path('../datasets/mnist_sample/train/3/10161.png')...]"
      ]
     },
     "execution_count": 7,
     "metadata": {},
     "output_type": "execute_result"
    }
   ],
   "source": [
    "threes = (path/'train'/'3').ls().sorted()\n",
    "sevens = (path/'train'/'7').ls().sorted()\n",
    "threes"
   ]
  },
  {
   "cell_type": "code",
   "execution_count": 8,
   "id": "f227cc92-12eb-47fc-840f-f3ba44e707ad",
   "metadata": {},
   "outputs": [
    {
     "data": {
      "image/jpeg": "[encoded data removed]",
      "image/png": "[encoded data removed]",
      "text/plain": [
       "<PIL.PngImagePlugin.PngImageFile image mode=L size=28x28>"
      ]
     },
     "execution_count": 8,
     "metadata": {},
     "output_type": "execute_result"
    }
   ],
   "source": [
    "im3_path = threes[1]\n",
    "im3 = Image.open(im3_path)\n",
    "im3"
   ]
  },
  {
   "cell_type": "code",
   "execution_count": 9,
   "id": "9cc7f94c-1001-40e6-9b58-bc1901459d84",
   "metadata": {},
   "outputs": [
    {
     "data": {
      "text/plain": [
       "array([[  0,   0,   0,   0,   0,   0,   0,   0,   0,   0,   0,   0,   0,   0,   0,   0,   0,   0,   0,   0,   0,   0,   0,   0,   0,   0,   0,   0],\n",
       "       [  0,   0,   0,   0,   0,   0,   0,   0,   0,   0,   0,   0,   0,   0,   0,   0,   0,   0,   0,   0,   0,   0,   0,   0,   0,   0,   0,   0],\n",
       "       [  0,   0,   0,   0,   0,   0,   0,   0,   0,   0,   0,   0,   0,   0,   0,   0,   0,   0,   0,   0,   0,   0,   0,   0,   0,   0,   0,   0],\n",
       "       [  0,   0,   0,   0,   0,   0,   0,   0,   0,   0,   0,   0,   0,   0,   0,   0,   0,   0,   0,   0,   0,   0,   0,   0,   0,   0,   0,   0],\n",
       "       [  0,   0,   0,   0,   0,   0,   0,   0,   0,   0,   0,   0,   0,   0,   0,   0,   0,   0,   0,   0,   0,   0,   0,   0,   0,   0,   0,   0],\n",
       "       [  0,   0,   0,   0,   0,   0,   0,   0,   0,  29, 150, 195, 254, 255, 254, 176, 193, 150,  96,   0,   0,   0,   0,   0,   0,   0,   0,   0],\n",
       "       [  0,   0,   0,   0,   0,   0,   0,  48, 166, 224, 253, 253, 234, 196, 253, 253, 253, 253, 233,   0,   0,   0,   0,   0,   0,   0,   0,   0],\n",
       "       [  0,   0,   0,   0,   0,  93, 244, 249, 253, 187,  46,  10,   8,   4,  10, 194, 253, 253, 233,   0,   0,   0,   0,   0,   0,   0,   0,   0],\n",
       "       [  0,   0,   0,   0,   0, 107, 253, 253, 230,  48,   0,   0,   0,   0,   0, 192, 253, 253, 156,   0,   0,   0,   0,   0,   0,   0,   0,   0],\n",
       "       [  0,   0,   0,   0,   0,   3,  20,  20,  15,   0,   0,   0,   0,   0,  43, 224, 253, 245,  74,   0,   0,   0,   0,   0,   0,   0,   0,   0],\n",
       "       [  0,   0,   0,   0,   0,   0,   0,   0,   0,   0,   0,   0,   0,   0, 249, 253, 245, 126,   0,   0,   0,   0,   0,   0,   0,   0,   0,   0],\n",
       "       [  0,   0,   0,   0,   0,   0,   0,   0,   0,   0,   0,  14, 101, 223, 253, 248, 124,   0,   0,   0,   0,   0,   0,   0,   0,   0,   0,   0],\n",
       "       [  0,   0,   0,   0,   0,   0,   0,   0,   0,  11, 166, 239, 253, 253, 253, 187,  30,   0,   0,   0,   0,   0,   0,   0,   0,   0,   0,   0],\n",
       "       [  0,   0,   0,   0,   0,   0,   0,   0,   0,  16, 248, 250, 253, 253, 253, 253, 232, 213, 111,   2,   0,   0,   0,   0,   0,   0,   0,   0],\n",
       "       [  0,   0,   0,   0,   0,   0,   0,   0,   0,   0,   0,  43,  98,  98, 208, 253, 253, 253, 253, 187,  22,   0,   0,   0,   0,   0,   0,   0],\n",
       "       [  0,   0,   0,   0,   0,   0,   0,   0,   0,   0,   0,   0,   0,   0,   9,  51, 119, 253, 253, 253,  76,   0,   0,   0,   0,   0,   0,   0],\n",
       "       [  0,   0,   0,   0,   0,   0,   0,   0,   0,   0,   0,   0,   0,   0,   0,   0,   1, 183, 253, 253, 139,   0,   0,   0,   0,   0,   0,   0],\n",
       "       [  0,   0,   0,   0,   0,   0,   0,   0,   0,   0,   0,   0,   0,   0,   0,   0,   0, 182, 253, 253, 104,   0,   0,   0,   0,   0,   0,   0],\n",
       "       [  0,   0,   0,   0,   0,   0,   0,   0,   0,   0,   0,   0,   0,   0,   0,   0,  85, 249, 253, 253,  36,   0,   0,   0,   0,   0,   0,   0],\n",
       "       [  0,   0,   0,   0,   0,   0,   0,   0,   0,   0,   0,   0,   0,   0,   0,  60, 214, 253, 253, 173,  11,   0,   0,   0,   0,   0,   0,   0],\n",
       "       [  0,   0,   0,   0,   0,   0,   0,   0,   0,   0,   0,   0,   0,   0,  98, 247, 253, 253, 226,   9,   0,   0,   0,   0,   0,   0,   0,   0],\n",
       "       [  0,   0,   0,   0,   0,   0,   0,   0,   0,   0,   0,   0,  42, 150, 252, 253, 253, 233,  53,   0,   0,   0,   0,   0,   0,   0,   0,   0],\n",
       "       [  0,   0,   0,   0,   0,   0,  42, 115,  42,  60, 115, 159, 240, 253, 253, 250, 175,  25,   0,   0,   0,   0,   0,   0,   0,   0,   0,   0],\n",
       "       [  0,   0,   0,   0,   0,   0, 187, 253, 253, 253, 253, 253, 253, 253, 197,  86,   0,   0,   0,   0,   0,   0,   0,   0,   0,   0,   0,   0],\n",
       "       [  0,   0,   0,   0,   0,   0, 103, 253, 253, 253, 253, 253, 232,  67,   1,   0,   0,   0,   0,   0,   0,   0,   0,   0,   0,   0,   0,   0],\n",
       "       [  0,   0,   0,   0,   0,   0,   0,   0,   0,   0,   0,   0,   0,   0,   0,   0,   0,   0,   0,   0,   0,   0,   0,   0,   0,   0,   0,   0],\n",
       "       [  0,   0,   0,   0,   0,   0,   0,   0,   0,   0,   0,   0,   0,   0,   0,   0,   0,   0,   0,   0,   0,   0,   0,   0,   0,   0,   0,   0],\n",
       "       [  0,   0,   0,   0,   0,   0,   0,   0,   0,   0,   0,   0,   0,   0,   0,   0,   0,   0,   0,   0,   0,   0,   0,   0,   0,   0,   0,   0]], dtype=uint8)"
      ]
     },
     "execution_count": 9,
     "metadata": {},
     "output_type": "execute_result"
    }
   ],
   "source": [
    "array(im3)"
   ]
  },
  {
   "cell_type": "code",
   "execution_count": 10,
   "id": "87f1a8c4-b08a-482d-99a8-f320f9f9180f",
   "metadata": {},
   "outputs": [
    {
     "data": {
      "text/plain": [
       "tensor([[  0,   0,   0,   0,   0,   0,   0,   0,   0,   0,   0,   0,   0,   0,   0,   0,   0,   0,   0,   0,   0,   0,   0,   0,   0,   0,   0,   0],\n",
       "        [  0,   0,   0,   0,   0,   0,   0,   0,   0,   0,   0,   0,   0,   0,   0,   0,   0,   0,   0,   0,   0,   0,   0,   0,   0,   0,   0,   0],\n",
       "        [  0,   0,   0,   0,   0,   0,   0,   0,   0,   0,   0,   0,   0,   0,   0,   0,   0,   0,   0,   0,   0,   0,   0,   0,   0,   0,   0,   0],\n",
       "        [  0,   0,   0,   0,   0,   0,   0,   0,   0,   0,   0,   0,   0,   0,   0,   0,   0,   0,   0,   0,   0,   0,   0,   0,   0,   0,   0,   0],\n",
       "        [  0,   0,   0,   0,   0,   0,   0,   0,   0,   0,   0,   0,   0,   0,   0,   0,   0,   0,   0,   0,   0,   0,   0,   0,   0,   0,   0,   0],\n",
       "        [  0,   0,   0,   0,   0,   0,   0,   0,   0,  29, 150, 195, 254, 255, 254, 176, 193, 150,  96,   0,   0,   0,   0,   0,   0,   0,   0,   0],\n",
       "        [  0,   0,   0,   0,   0,   0,   0,  48, 166, 224, 253, 253, 234, 196, 253, 253, 253, 253, 233,   0,   0,   0,   0,   0,   0,   0,   0,   0],\n",
       "        [  0,   0,   0,   0,   0,  93, 244, 249, 253, 187,  46,  10,   8,   4,  10, 194, 253, 253, 233,   0,   0,   0,   0,   0,   0,   0,   0,   0],\n",
       "        [  0,   0,   0,   0,   0, 107, 253, 253, 230,  48,   0,   0,   0,   0,   0, 192, 253, 253, 156,   0,   0,   0,   0,   0,   0,   0,   0,   0],\n",
       "        [  0,   0,   0,   0,   0,   3,  20,  20,  15,   0,   0,   0,   0,   0,  43, 224, 253, 245,  74,   0,   0,   0,   0,   0,   0,   0,   0,   0],\n",
       "        [  0,   0,   0,   0,   0,   0,   0,   0,   0,   0,   0,   0,   0,   0, 249, 253, 245, 126,   0,   0,   0,   0,   0,   0,   0,   0,   0,   0],\n",
       "        [  0,   0,   0,   0,   0,   0,   0,   0,   0,   0,   0,  14, 101, 223, 253, 248, 124,   0,   0,   0,   0,   0,   0,   0,   0,   0,   0,   0],\n",
       "        [  0,   0,   0,   0,   0,   0,   0,   0,   0,  11, 166, 239, 253, 253, 253, 187,  30,   0,   0,   0,   0,   0,   0,   0,   0,   0,   0,   0],\n",
       "        [  0,   0,   0,   0,   0,   0,   0,   0,   0,  16, 248, 250, 253, 253, 253, 253, 232, 213, 111,   2,   0,   0,   0,   0,   0,   0,   0,   0],\n",
       "        [  0,   0,   0,   0,   0,   0,   0,   0,   0,   0,   0,  43,  98,  98, 208, 253, 253, 253, 253, 187,  22,   0,   0,   0,   0,   0,   0,   0],\n",
       "        [  0,   0,   0,   0,   0,   0,   0,   0,   0,   0,   0,   0,   0,   0,   9,  51, 119, 253, 253, 253,  76,   0,   0,   0,   0,   0,   0,   0],\n",
       "        [  0,   0,   0,   0,   0,   0,   0,   0,   0,   0,   0,   0,   0,   0,   0,   0,   1, 183, 253, 253, 139,   0,   0,   0,   0,   0,   0,   0],\n",
       "        [  0,   0,   0,   0,   0,   0,   0,   0,   0,   0,   0,   0,   0,   0,   0,   0,   0, 182, 253, 253, 104,   0,   0,   0,   0,   0,   0,   0],\n",
       "        [  0,   0,   0,   0,   0,   0,   0,   0,   0,   0,   0,   0,   0,   0,   0,   0,  85, 249, 253, 253,  36,   0,   0,   0,   0,   0,   0,   0],\n",
       "        [  0,   0,   0,   0,   0,   0,   0,   0,   0,   0,   0,   0,   0,   0,   0,  60, 214, 253, 253, 173,  11,   0,   0,   0,   0,   0,   0,   0],\n",
       "        [  0,   0,   0,   0,   0,   0,   0,   0,   0,   0,   0,   0,   0,   0,  98, 247, 253, 253, 226,   9,   0,   0,   0,   0,   0,   0,   0,   0],\n",
       "        [  0,   0,   0,   0,   0,   0,   0,   0,   0,   0,   0,   0,  42, 150, 252, 253, 253, 233,  53,   0,   0,   0,   0,   0,   0,   0,   0,   0],\n",
       "        [  0,   0,   0,   0,   0,   0,  42, 115,  42,  60, 115, 159, 240, 253, 253, 250, 175,  25,   0,   0,   0,   0,   0,   0,   0,   0,   0,   0],\n",
       "        [  0,   0,   0,   0,   0,   0, 187, 253, 253, 253, 253, 253, 253, 253, 197,  86,   0,   0,   0,   0,   0,   0,   0,   0,   0,   0,   0,   0],\n",
       "        [  0,   0,   0,   0,   0,   0, 103, 253, 253, 253, 253, 253, 232,  67,   1,   0,   0,   0,   0,   0,   0,   0,   0,   0,   0,   0,   0,   0],\n",
       "        [  0,   0,   0,   0,   0,   0,   0,   0,   0,   0,   0,   0,   0,   0,   0,   0,   0,   0,   0,   0,   0,   0,   0,   0,   0,   0,   0,   0],\n",
       "        [  0,   0,   0,   0,   0,   0,   0,   0,   0,   0,   0,   0,   0,   0,   0,   0,   0,   0,   0,   0,   0,   0,   0,   0,   0,   0,   0,   0],\n",
       "        [  0,   0,   0,   0,   0,   0,   0,   0,   0,   0,   0,   0,   0,   0,   0,   0,   0,   0,   0,   0,   0,   0,   0,   0,   0,   0,   0,   0]], dtype=torch.uint8)"
      ]
     },
     "execution_count": 10,
     "metadata": {},
     "output_type": "execute_result"
    }
   ],
   "source": [
    "tensor(im3)"
   ]
  },
  {
   "cell_type": "code",
   "execution_count": 11,
   "id": "b298bcde-a35c-475c-bb81-cc90bc3da308",
   "metadata": {},
   "outputs": [
    {
     "data": {
      "text/html": [
       "<style type=\"text/css\">\n",
       "#T_86d4e_row0_col0, #T_86d4e_row0_col1, #T_86d4e_row0_col2, #T_86d4e_row0_col3, #T_86d4e_row0_col4, #T_86d4e_row0_col5, #T_86d4e_row0_col6, #T_86d4e_row0_col7, #T_86d4e_row0_col8, #T_86d4e_row0_col9, #T_86d4e_row0_col10, #T_86d4e_row0_col11, #T_86d4e_row0_col12, #T_86d4e_row0_col13, #T_86d4e_row0_col14, #T_86d4e_row0_col15, #T_86d4e_row0_col16, #T_86d4e_row0_col17, #T_86d4e_row1_col0, #T_86d4e_row1_col1, #T_86d4e_row1_col2, #T_86d4e_row1_col3, #T_86d4e_row1_col4, #T_86d4e_row1_col15, #T_86d4e_row1_col16, #T_86d4e_row1_col17, #T_86d4e_row2_col0, #T_86d4e_row2_col1, #T_86d4e_row2_col2, #T_86d4e_row2_col15, #T_86d4e_row2_col16, #T_86d4e_row2_col17, #T_86d4e_row3_col0, #T_86d4e_row3_col15, #T_86d4e_row3_col16, #T_86d4e_row3_col17, #T_86d4e_row4_col0, #T_86d4e_row4_col6, #T_86d4e_row4_col7, #T_86d4e_row4_col8, #T_86d4e_row4_col9, #T_86d4e_row4_col10, #T_86d4e_row4_col15, #T_86d4e_row4_col16, #T_86d4e_row4_col17, #T_86d4e_row5_col0, #T_86d4e_row5_col5, #T_86d4e_row5_col6, #T_86d4e_row5_col7, #T_86d4e_row5_col8, #T_86d4e_row5_col9, #T_86d4e_row5_col15, #T_86d4e_row5_col16, #T_86d4e_row5_col17, #T_86d4e_row6_col0, #T_86d4e_row6_col1, #T_86d4e_row6_col2, #T_86d4e_row6_col3, #T_86d4e_row6_col4, #T_86d4e_row6_col5, #T_86d4e_row6_col6, #T_86d4e_row6_col7, #T_86d4e_row6_col8, #T_86d4e_row6_col9, #T_86d4e_row6_col14, #T_86d4e_row6_col15, #T_86d4e_row6_col16, #T_86d4e_row6_col17, #T_86d4e_row7_col0, #T_86d4e_row7_col1, #T_86d4e_row7_col2, #T_86d4e_row7_col3, #T_86d4e_row7_col4, #T_86d4e_row7_col5, #T_86d4e_row7_col6, #T_86d4e_row7_col13, #T_86d4e_row7_col14, #T_86d4e_row7_col15, #T_86d4e_row7_col16, #T_86d4e_row7_col17, #T_86d4e_row8_col0, #T_86d4e_row8_col1, #T_86d4e_row8_col2, #T_86d4e_row8_col3, #T_86d4e_row8_col4, #T_86d4e_row8_col13, #T_86d4e_row8_col14, #T_86d4e_row8_col15, #T_86d4e_row8_col16, #T_86d4e_row8_col17, #T_86d4e_row9_col0, #T_86d4e_row9_col1, #T_86d4e_row9_col2, #T_86d4e_row9_col3, #T_86d4e_row9_col4, #T_86d4e_row9_col16, #T_86d4e_row9_col17, #T_86d4e_row10_col0, #T_86d4e_row10_col1, #T_86d4e_row10_col2, #T_86d4e_row10_col3, #T_86d4e_row10_col4, #T_86d4e_row10_col5, #T_86d4e_row10_col6, #T_86d4e_row10_col17 {\n",
       "  font-size: 6pt;\n",
       "  background-color: #f7fbff;\n",
       "  color: #000000;\n",
       "}\n",
       "#T_86d4e_row1_col5 {\n",
       "  font-size: 6pt;\n",
       "  background-color: #ddeaf7;\n",
       "  color: #000000;\n",
       "}\n",
       "#T_86d4e_row1_col6, #T_86d4e_row1_col13 {\n",
       "  font-size: 6pt;\n",
       "  background-color: #4d99ca;\n",
       "  color: #f1f1f1;\n",
       "}\n",
       "#T_86d4e_row1_col7 {\n",
       "  font-size: 6pt;\n",
       "  background-color: #1c6bb0;\n",
       "  color: #f1f1f1;\n",
       "}\n",
       "#T_86d4e_row1_col8, #T_86d4e_row1_col9, #T_86d4e_row1_col10, #T_86d4e_row2_col5, #T_86d4e_row2_col6, #T_86d4e_row2_col7, #T_86d4e_row2_col11, #T_86d4e_row2_col12, #T_86d4e_row2_col13, #T_86d4e_row3_col4, #T_86d4e_row3_col12, #T_86d4e_row3_col13, #T_86d4e_row4_col1, #T_86d4e_row4_col2, #T_86d4e_row4_col3, #T_86d4e_row4_col12, #T_86d4e_row4_col13, #T_86d4e_row5_col12, #T_86d4e_row6_col11, #T_86d4e_row9_col11, #T_86d4e_row10_col11, #T_86d4e_row10_col12, #T_86d4e_row10_col13, #T_86d4e_row10_col14, #T_86d4e_row10_col15, #T_86d4e_row10_col16 {\n",
       "  font-size: 6pt;\n",
       "  background-color: #08306b;\n",
       "  color: #f1f1f1;\n",
       "}\n",
       "#T_86d4e_row1_col11 {\n",
       "  font-size: 6pt;\n",
       "  background-color: #2f7fbc;\n",
       "  color: #f1f1f1;\n",
       "}\n",
       "#T_86d4e_row1_col12 {\n",
       "  font-size: 6pt;\n",
       "  background-color: #1e6db2;\n",
       "  color: #f1f1f1;\n",
       "}\n",
       "#T_86d4e_row1_col14 {\n",
       "  font-size: 6pt;\n",
       "  background-color: #9cc9e1;\n",
       "  color: #000000;\n",
       "}\n",
       "#T_86d4e_row2_col3 {\n",
       "  font-size: 6pt;\n",
       "  background-color: #d2e3f3;\n",
       "  color: #000000;\n",
       "}\n",
       "#T_86d4e_row2_col4, #T_86d4e_row8_col6 {\n",
       "  font-size: 6pt;\n",
       "  background-color: #3a8ac2;\n",
       "  color: #f1f1f1;\n",
       "}\n",
       "#T_86d4e_row2_col8, #T_86d4e_row2_col14, #T_86d4e_row3_col14 {\n",
       "  font-size: 6pt;\n",
       "  background-color: #08458a;\n",
       "  color: #f1f1f1;\n",
       "}\n",
       "#T_86d4e_row2_col9, #T_86d4e_row3_col11 {\n",
       "  font-size: 6pt;\n",
       "  background-color: #1d6cb1;\n",
       "  color: #f1f1f1;\n",
       "}\n",
       "#T_86d4e_row2_col10, #T_86d4e_row7_col10, #T_86d4e_row8_col8, #T_86d4e_row8_col10, #T_86d4e_row9_col8, #T_86d4e_row9_col10 {\n",
       "  font-size: 6pt;\n",
       "  background-color: #08316d;\n",
       "  color: #f1f1f1;\n",
       "}\n",
       "#T_86d4e_row3_col1 {\n",
       "  font-size: 6pt;\n",
       "  background-color: #09529d;\n",
       "  color: #f1f1f1;\n",
       "}\n",
       "#T_86d4e_row3_col2 {\n",
       "  font-size: 6pt;\n",
       "  background-color: #083979;\n",
       "  color: #f1f1f1;\n",
       "}\n",
       "#T_86d4e_row3_col3 {\n",
       "  font-size: 6pt;\n",
       "  background-color: #083471;\n",
       "  color: #f1f1f1;\n",
       "}\n",
       "#T_86d4e_row3_col5 {\n",
       "  font-size: 6pt;\n",
       "  background-color: #105ba4;\n",
       "  color: #f1f1f1;\n",
       "}\n",
       "#T_86d4e_row3_col6 {\n",
       "  font-size: 6pt;\n",
       "  background-color: #d3e4f3;\n",
       "  color: #000000;\n",
       "}\n",
       "#T_86d4e_row3_col7, #T_86d4e_row3_col10 {\n",
       "  font-size: 6pt;\n",
       "  background-color: #eff6fc;\n",
       "  color: #000000;\n",
       "}\n",
       "#T_86d4e_row3_col8 {\n",
       "  font-size: 6pt;\n",
       "  background-color: #f1f7fd;\n",
       "  color: #000000;\n",
       "}\n",
       "#T_86d4e_row3_col9 {\n",
       "  font-size: 6pt;\n",
       "  background-color: #f4f9fe;\n",
       "  color: #000000;\n",
       "}\n",
       "#T_86d4e_row4_col4 {\n",
       "  font-size: 6pt;\n",
       "  background-color: #08488e;\n",
       "  color: #f1f1f1;\n",
       "}\n",
       "#T_86d4e_row4_col5 {\n",
       "  font-size: 6pt;\n",
       "  background-color: #cde0f1;\n",
       "  color: #000000;\n",
       "}\n",
       "#T_86d4e_row4_col11 {\n",
       "  font-size: 6pt;\n",
       "  background-color: #1f6eb3;\n",
       "  color: #f1f1f1;\n",
       "}\n",
       "#T_86d4e_row4_col14 {\n",
       "  font-size: 6pt;\n",
       "  background-color: #4594c7;\n",
       "  color: #f1f1f1;\n",
       "}\n",
       "#T_86d4e_row5_col1 {\n",
       "  font-size: 6pt;\n",
       "  background-color: #f2f7fd;\n",
       "  color: #000000;\n",
       "}\n",
       "#T_86d4e_row5_col2, #T_86d4e_row5_col3 {\n",
       "  font-size: 6pt;\n",
       "  background-color: #e7f1fa;\n",
       "  color: #000000;\n",
       "}\n",
       "#T_86d4e_row5_col4 {\n",
       "  font-size: 6pt;\n",
       "  background-color: #ebf3fb;\n",
       "  color: #000000;\n",
       "}\n",
       "#T_86d4e_row5_col10, #T_86d4e_row10_col7 {\n",
       "  font-size: 6pt;\n",
       "  background-color: #d6e5f4;\n",
       "  color: #000000;\n",
       "}\n",
       "#T_86d4e_row5_col11 {\n",
       "  font-size: 6pt;\n",
       "  background-color: #084e98;\n",
       "  color: #f1f1f1;\n",
       "}\n",
       "#T_86d4e_row5_col13, #T_86d4e_row6_col12 {\n",
       "  font-size: 6pt;\n",
       "  background-color: #083877;\n",
       "  color: #f1f1f1;\n",
       "}\n",
       "#T_86d4e_row5_col14 {\n",
       "  font-size: 6pt;\n",
       "  background-color: #b9d6ea;\n",
       "  color: #000000;\n",
       "}\n",
       "#T_86d4e_row6_col10, #T_86d4e_row7_col11, #T_86d4e_row9_col6 {\n",
       "  font-size: 6pt;\n",
       "  background-color: #083573;\n",
       "  color: #f1f1f1;\n",
       "}\n",
       "#T_86d4e_row6_col13 {\n",
       "  font-size: 6pt;\n",
       "  background-color: #6caed6;\n",
       "  color: #f1f1f1;\n",
       "}\n",
       "#T_86d4e_row7_col7 {\n",
       "  font-size: 6pt;\n",
       "  background-color: #ecf4fb;\n",
       "  color: #000000;\n",
       "}\n",
       "#T_86d4e_row7_col8 {\n",
       "  font-size: 6pt;\n",
       "  background-color: #95c5df;\n",
       "  color: #000000;\n",
       "}\n",
       "#T_86d4e_row7_col9 {\n",
       "  font-size: 6pt;\n",
       "  background-color: #08519c;\n",
       "  color: #f1f1f1;\n",
       "}\n",
       "#T_86d4e_row7_col12 {\n",
       "  font-size: 6pt;\n",
       "  background-color: #6fb0d7;\n",
       "  color: #f1f1f1;\n",
       "}\n",
       "#T_86d4e_row8_col5 {\n",
       "  font-size: 6pt;\n",
       "  background-color: #eef5fc;\n",
       "  color: #000000;\n",
       "}\n",
       "#T_86d4e_row8_col7 {\n",
       "  font-size: 6pt;\n",
       "  background-color: #083e81;\n",
       "  color: #f1f1f1;\n",
       "}\n",
       "#T_86d4e_row8_col9, #T_86d4e_row9_col9 {\n",
       "  font-size: 6pt;\n",
       "  background-color: #08326e;\n",
       "  color: #f1f1f1;\n",
       "}\n",
       "#T_86d4e_row8_col11 {\n",
       "  font-size: 6pt;\n",
       "  background-color: #2373b6;\n",
       "  color: #f1f1f1;\n",
       "}\n",
       "#T_86d4e_row8_col12 {\n",
       "  font-size: 6pt;\n",
       "  background-color: #dfecf7;\n",
       "  color: #000000;\n",
       "}\n",
       "#T_86d4e_row9_col5 {\n",
       "  font-size: 6pt;\n",
       "  background-color: #e9f2fa;\n",
       "  color: #000000;\n",
       "}\n",
       "#T_86d4e_row9_col7 {\n",
       "  font-size: 6pt;\n",
       "  background-color: #083370;\n",
       "  color: #f1f1f1;\n",
       "}\n",
       "#T_86d4e_row9_col12 {\n",
       "  font-size: 6pt;\n",
       "  background-color: #08468b;\n",
       "  color: #f1f1f1;\n",
       "}\n",
       "#T_86d4e_row9_col13 {\n",
       "  font-size: 6pt;\n",
       "  background-color: #0e59a2;\n",
       "  color: #f1f1f1;\n",
       "}\n",
       "#T_86d4e_row9_col14 {\n",
       "  font-size: 6pt;\n",
       "  background-color: #84bcdb;\n",
       "  color: #000000;\n",
       "}\n",
       "#T_86d4e_row9_col15 {\n",
       "  font-size: 6pt;\n",
       "  background-color: #f5fafe;\n",
       "  color: #000000;\n",
       "}\n",
       "#T_86d4e_row10_col8, #T_86d4e_row10_col9 {\n",
       "  font-size: 6pt;\n",
       "  background-color: #9ac8e0;\n",
       "  color: #000000;\n",
       "}\n",
       "#T_86d4e_row10_col10 {\n",
       "  font-size: 6pt;\n",
       "  background-color: #135fa7;\n",
       "  color: #f1f1f1;\n",
       "}\n",
       "</style>\n",
       "<table id=\"T_86d4e\">\n",
       "  <thead>\n",
       "    <tr>\n",
       "      <th class=\"blank level0\" >&nbsp;</th>\n",
       "      <th id=\"T_86d4e_level0_col0\" class=\"col_heading level0 col0\" >0</th>\n",
       "      <th id=\"T_86d4e_level0_col1\" class=\"col_heading level0 col1\" >1</th>\n",
       "      <th id=\"T_86d4e_level0_col2\" class=\"col_heading level0 col2\" >2</th>\n",
       "      <th id=\"T_86d4e_level0_col3\" class=\"col_heading level0 col3\" >3</th>\n",
       "      <th id=\"T_86d4e_level0_col4\" class=\"col_heading level0 col4\" >4</th>\n",
       "      <th id=\"T_86d4e_level0_col5\" class=\"col_heading level0 col5\" >5</th>\n",
       "      <th id=\"T_86d4e_level0_col6\" class=\"col_heading level0 col6\" >6</th>\n",
       "      <th id=\"T_86d4e_level0_col7\" class=\"col_heading level0 col7\" >7</th>\n",
       "      <th id=\"T_86d4e_level0_col8\" class=\"col_heading level0 col8\" >8</th>\n",
       "      <th id=\"T_86d4e_level0_col9\" class=\"col_heading level0 col9\" >9</th>\n",
       "      <th id=\"T_86d4e_level0_col10\" class=\"col_heading level0 col10\" >10</th>\n",
       "      <th id=\"T_86d4e_level0_col11\" class=\"col_heading level0 col11\" >11</th>\n",
       "      <th id=\"T_86d4e_level0_col12\" class=\"col_heading level0 col12\" >12</th>\n",
       "      <th id=\"T_86d4e_level0_col13\" class=\"col_heading level0 col13\" >13</th>\n",
       "      <th id=\"T_86d4e_level0_col14\" class=\"col_heading level0 col14\" >14</th>\n",
       "      <th id=\"T_86d4e_level0_col15\" class=\"col_heading level0 col15\" >15</th>\n",
       "      <th id=\"T_86d4e_level0_col16\" class=\"col_heading level0 col16\" >16</th>\n",
       "      <th id=\"T_86d4e_level0_col17\" class=\"col_heading level0 col17\" >17</th>\n",
       "    </tr>\n",
       "  </thead>\n",
       "  <tbody>\n",
       "    <tr>\n",
       "      <th id=\"T_86d4e_level0_row0\" class=\"row_heading level0 row0\" >0</th>\n",
       "      <td id=\"T_86d4e_row0_col0\" class=\"data row0 col0\" >0</td>\n",
       "      <td id=\"T_86d4e_row0_col1\" class=\"data row0 col1\" >0</td>\n",
       "      <td id=\"T_86d4e_row0_col2\" class=\"data row0 col2\" >0</td>\n",
       "      <td id=\"T_86d4e_row0_col3\" class=\"data row0 col3\" >0</td>\n",
       "      <td id=\"T_86d4e_row0_col4\" class=\"data row0 col4\" >0</td>\n",
       "      <td id=\"T_86d4e_row0_col5\" class=\"data row0 col5\" >0</td>\n",
       "      <td id=\"T_86d4e_row0_col6\" class=\"data row0 col6\" >0</td>\n",
       "      <td id=\"T_86d4e_row0_col7\" class=\"data row0 col7\" >0</td>\n",
       "      <td id=\"T_86d4e_row0_col8\" class=\"data row0 col8\" >0</td>\n",
       "      <td id=\"T_86d4e_row0_col9\" class=\"data row0 col9\" >0</td>\n",
       "      <td id=\"T_86d4e_row0_col10\" class=\"data row0 col10\" >0</td>\n",
       "      <td id=\"T_86d4e_row0_col11\" class=\"data row0 col11\" >0</td>\n",
       "      <td id=\"T_86d4e_row0_col12\" class=\"data row0 col12\" >0</td>\n",
       "      <td id=\"T_86d4e_row0_col13\" class=\"data row0 col13\" >0</td>\n",
       "      <td id=\"T_86d4e_row0_col14\" class=\"data row0 col14\" >0</td>\n",
       "      <td id=\"T_86d4e_row0_col15\" class=\"data row0 col15\" >0</td>\n",
       "      <td id=\"T_86d4e_row0_col16\" class=\"data row0 col16\" >0</td>\n",
       "      <td id=\"T_86d4e_row0_col17\" class=\"data row0 col17\" >0</td>\n",
       "    </tr>\n",
       "    <tr>\n",
       "      <th id=\"T_86d4e_level0_row1\" class=\"row_heading level0 row1\" >1</th>\n",
       "      <td id=\"T_86d4e_row1_col0\" class=\"data row1 col0\" >0</td>\n",
       "      <td id=\"T_86d4e_row1_col1\" class=\"data row1 col1\" >0</td>\n",
       "      <td id=\"T_86d4e_row1_col2\" class=\"data row1 col2\" >0</td>\n",
       "      <td id=\"T_86d4e_row1_col3\" class=\"data row1 col3\" >0</td>\n",
       "      <td id=\"T_86d4e_row1_col4\" class=\"data row1 col4\" >0</td>\n",
       "      <td id=\"T_86d4e_row1_col5\" class=\"data row1 col5\" >29</td>\n",
       "      <td id=\"T_86d4e_row1_col6\" class=\"data row1 col6\" >150</td>\n",
       "      <td id=\"T_86d4e_row1_col7\" class=\"data row1 col7\" >195</td>\n",
       "      <td id=\"T_86d4e_row1_col8\" class=\"data row1 col8\" >254</td>\n",
       "      <td id=\"T_86d4e_row1_col9\" class=\"data row1 col9\" >255</td>\n",
       "      <td id=\"T_86d4e_row1_col10\" class=\"data row1 col10\" >254</td>\n",
       "      <td id=\"T_86d4e_row1_col11\" class=\"data row1 col11\" >176</td>\n",
       "      <td id=\"T_86d4e_row1_col12\" class=\"data row1 col12\" >193</td>\n",
       "      <td id=\"T_86d4e_row1_col13\" class=\"data row1 col13\" >150</td>\n",
       "      <td id=\"T_86d4e_row1_col14\" class=\"data row1 col14\" >96</td>\n",
       "      <td id=\"T_86d4e_row1_col15\" class=\"data row1 col15\" >0</td>\n",
       "      <td id=\"T_86d4e_row1_col16\" class=\"data row1 col16\" >0</td>\n",
       "      <td id=\"T_86d4e_row1_col17\" class=\"data row1 col17\" >0</td>\n",
       "    </tr>\n",
       "    <tr>\n",
       "      <th id=\"T_86d4e_level0_row2\" class=\"row_heading level0 row2\" >2</th>\n",
       "      <td id=\"T_86d4e_row2_col0\" class=\"data row2 col0\" >0</td>\n",
       "      <td id=\"T_86d4e_row2_col1\" class=\"data row2 col1\" >0</td>\n",
       "      <td id=\"T_86d4e_row2_col2\" class=\"data row2 col2\" >0</td>\n",
       "      <td id=\"T_86d4e_row2_col3\" class=\"data row2 col3\" >48</td>\n",
       "      <td id=\"T_86d4e_row2_col4\" class=\"data row2 col4\" >166</td>\n",
       "      <td id=\"T_86d4e_row2_col5\" class=\"data row2 col5\" >224</td>\n",
       "      <td id=\"T_86d4e_row2_col6\" class=\"data row2 col6\" >253</td>\n",
       "      <td id=\"T_86d4e_row2_col7\" class=\"data row2 col7\" >253</td>\n",
       "      <td id=\"T_86d4e_row2_col8\" class=\"data row2 col8\" >234</td>\n",
       "      <td id=\"T_86d4e_row2_col9\" class=\"data row2 col9\" >196</td>\n",
       "      <td id=\"T_86d4e_row2_col10\" class=\"data row2 col10\" >253</td>\n",
       "      <td id=\"T_86d4e_row2_col11\" class=\"data row2 col11\" >253</td>\n",
       "      <td id=\"T_86d4e_row2_col12\" class=\"data row2 col12\" >253</td>\n",
       "      <td id=\"T_86d4e_row2_col13\" class=\"data row2 col13\" >253</td>\n",
       "      <td id=\"T_86d4e_row2_col14\" class=\"data row2 col14\" >233</td>\n",
       "      <td id=\"T_86d4e_row2_col15\" class=\"data row2 col15\" >0</td>\n",
       "      <td id=\"T_86d4e_row2_col16\" class=\"data row2 col16\" >0</td>\n",
       "      <td id=\"T_86d4e_row2_col17\" class=\"data row2 col17\" >0</td>\n",
       "    </tr>\n",
       "    <tr>\n",
       "      <th id=\"T_86d4e_level0_row3\" class=\"row_heading level0 row3\" >3</th>\n",
       "      <td id=\"T_86d4e_row3_col0\" class=\"data row3 col0\" >0</td>\n",
       "      <td id=\"T_86d4e_row3_col1\" class=\"data row3 col1\" >93</td>\n",
       "      <td id=\"T_86d4e_row3_col2\" class=\"data row3 col2\" >244</td>\n",
       "      <td id=\"T_86d4e_row3_col3\" class=\"data row3 col3\" >249</td>\n",
       "      <td id=\"T_86d4e_row3_col4\" class=\"data row3 col4\" >253</td>\n",
       "      <td id=\"T_86d4e_row3_col5\" class=\"data row3 col5\" >187</td>\n",
       "      <td id=\"T_86d4e_row3_col6\" class=\"data row3 col6\" >46</td>\n",
       "      <td id=\"T_86d4e_row3_col7\" class=\"data row3 col7\" >10</td>\n",
       "      <td id=\"T_86d4e_row3_col8\" class=\"data row3 col8\" >8</td>\n",
       "      <td id=\"T_86d4e_row3_col9\" class=\"data row3 col9\" >4</td>\n",
       "      <td id=\"T_86d4e_row3_col10\" class=\"data row3 col10\" >10</td>\n",
       "      <td id=\"T_86d4e_row3_col11\" class=\"data row3 col11\" >194</td>\n",
       "      <td id=\"T_86d4e_row3_col12\" class=\"data row3 col12\" >253</td>\n",
       "      <td id=\"T_86d4e_row3_col13\" class=\"data row3 col13\" >253</td>\n",
       "      <td id=\"T_86d4e_row3_col14\" class=\"data row3 col14\" >233</td>\n",
       "      <td id=\"T_86d4e_row3_col15\" class=\"data row3 col15\" >0</td>\n",
       "      <td id=\"T_86d4e_row3_col16\" class=\"data row3 col16\" >0</td>\n",
       "      <td id=\"T_86d4e_row3_col17\" class=\"data row3 col17\" >0</td>\n",
       "    </tr>\n",
       "    <tr>\n",
       "      <th id=\"T_86d4e_level0_row4\" class=\"row_heading level0 row4\" >4</th>\n",
       "      <td id=\"T_86d4e_row4_col0\" class=\"data row4 col0\" >0</td>\n",
       "      <td id=\"T_86d4e_row4_col1\" class=\"data row4 col1\" >107</td>\n",
       "      <td id=\"T_86d4e_row4_col2\" class=\"data row4 col2\" >253</td>\n",
       "      <td id=\"T_86d4e_row4_col3\" class=\"data row4 col3\" >253</td>\n",
       "      <td id=\"T_86d4e_row4_col4\" class=\"data row4 col4\" >230</td>\n",
       "      <td id=\"T_86d4e_row4_col5\" class=\"data row4 col5\" >48</td>\n",
       "      <td id=\"T_86d4e_row4_col6\" class=\"data row4 col6\" >0</td>\n",
       "      <td id=\"T_86d4e_row4_col7\" class=\"data row4 col7\" >0</td>\n",
       "      <td id=\"T_86d4e_row4_col8\" class=\"data row4 col8\" >0</td>\n",
       "      <td id=\"T_86d4e_row4_col9\" class=\"data row4 col9\" >0</td>\n",
       "      <td id=\"T_86d4e_row4_col10\" class=\"data row4 col10\" >0</td>\n",
       "      <td id=\"T_86d4e_row4_col11\" class=\"data row4 col11\" >192</td>\n",
       "      <td id=\"T_86d4e_row4_col12\" class=\"data row4 col12\" >253</td>\n",
       "      <td id=\"T_86d4e_row4_col13\" class=\"data row4 col13\" >253</td>\n",
       "      <td id=\"T_86d4e_row4_col14\" class=\"data row4 col14\" >156</td>\n",
       "      <td id=\"T_86d4e_row4_col15\" class=\"data row4 col15\" >0</td>\n",
       "      <td id=\"T_86d4e_row4_col16\" class=\"data row4 col16\" >0</td>\n",
       "      <td id=\"T_86d4e_row4_col17\" class=\"data row4 col17\" >0</td>\n",
       "    </tr>\n",
       "    <tr>\n",
       "      <th id=\"T_86d4e_level0_row5\" class=\"row_heading level0 row5\" >5</th>\n",
       "      <td id=\"T_86d4e_row5_col0\" class=\"data row5 col0\" >0</td>\n",
       "      <td id=\"T_86d4e_row5_col1\" class=\"data row5 col1\" >3</td>\n",
       "      <td id=\"T_86d4e_row5_col2\" class=\"data row5 col2\" >20</td>\n",
       "      <td id=\"T_86d4e_row5_col3\" class=\"data row5 col3\" >20</td>\n",
       "      <td id=\"T_86d4e_row5_col4\" class=\"data row5 col4\" >15</td>\n",
       "      <td id=\"T_86d4e_row5_col5\" class=\"data row5 col5\" >0</td>\n",
       "      <td id=\"T_86d4e_row5_col6\" class=\"data row5 col6\" >0</td>\n",
       "      <td id=\"T_86d4e_row5_col7\" class=\"data row5 col7\" >0</td>\n",
       "      <td id=\"T_86d4e_row5_col8\" class=\"data row5 col8\" >0</td>\n",
       "      <td id=\"T_86d4e_row5_col9\" class=\"data row5 col9\" >0</td>\n",
       "      <td id=\"T_86d4e_row5_col10\" class=\"data row5 col10\" >43</td>\n",
       "      <td id=\"T_86d4e_row5_col11\" class=\"data row5 col11\" >224</td>\n",
       "      <td id=\"T_86d4e_row5_col12\" class=\"data row5 col12\" >253</td>\n",
       "      <td id=\"T_86d4e_row5_col13\" class=\"data row5 col13\" >245</td>\n",
       "      <td id=\"T_86d4e_row5_col14\" class=\"data row5 col14\" >74</td>\n",
       "      <td id=\"T_86d4e_row5_col15\" class=\"data row5 col15\" >0</td>\n",
       "      <td id=\"T_86d4e_row5_col16\" class=\"data row5 col16\" >0</td>\n",
       "      <td id=\"T_86d4e_row5_col17\" class=\"data row5 col17\" >0</td>\n",
       "    </tr>\n",
       "    <tr>\n",
       "      <th id=\"T_86d4e_level0_row6\" class=\"row_heading level0 row6\" >6</th>\n",
       "      <td id=\"T_86d4e_row6_col0\" class=\"data row6 col0\" >0</td>\n",
       "      <td id=\"T_86d4e_row6_col1\" class=\"data row6 col1\" >0</td>\n",
       "      <td id=\"T_86d4e_row6_col2\" class=\"data row6 col2\" >0</td>\n",
       "      <td id=\"T_86d4e_row6_col3\" class=\"data row6 col3\" >0</td>\n",
       "      <td id=\"T_86d4e_row6_col4\" class=\"data row6 col4\" >0</td>\n",
       "      <td id=\"T_86d4e_row6_col5\" class=\"data row6 col5\" >0</td>\n",
       "      <td id=\"T_86d4e_row6_col6\" class=\"data row6 col6\" >0</td>\n",
       "      <td id=\"T_86d4e_row6_col7\" class=\"data row6 col7\" >0</td>\n",
       "      <td id=\"T_86d4e_row6_col8\" class=\"data row6 col8\" >0</td>\n",
       "      <td id=\"T_86d4e_row6_col9\" class=\"data row6 col9\" >0</td>\n",
       "      <td id=\"T_86d4e_row6_col10\" class=\"data row6 col10\" >249</td>\n",
       "      <td id=\"T_86d4e_row6_col11\" class=\"data row6 col11\" >253</td>\n",
       "      <td id=\"T_86d4e_row6_col12\" class=\"data row6 col12\" >245</td>\n",
       "      <td id=\"T_86d4e_row6_col13\" class=\"data row6 col13\" >126</td>\n",
       "      <td id=\"T_86d4e_row6_col14\" class=\"data row6 col14\" >0</td>\n",
       "      <td id=\"T_86d4e_row6_col15\" class=\"data row6 col15\" >0</td>\n",
       "      <td id=\"T_86d4e_row6_col16\" class=\"data row6 col16\" >0</td>\n",
       "      <td id=\"T_86d4e_row6_col17\" class=\"data row6 col17\" >0</td>\n",
       "    </tr>\n",
       "    <tr>\n",
       "      <th id=\"T_86d4e_level0_row7\" class=\"row_heading level0 row7\" >7</th>\n",
       "      <td id=\"T_86d4e_row7_col0\" class=\"data row7 col0\" >0</td>\n",
       "      <td id=\"T_86d4e_row7_col1\" class=\"data row7 col1\" >0</td>\n",
       "      <td id=\"T_86d4e_row7_col2\" class=\"data row7 col2\" >0</td>\n",
       "      <td id=\"T_86d4e_row7_col3\" class=\"data row7 col3\" >0</td>\n",
       "      <td id=\"T_86d4e_row7_col4\" class=\"data row7 col4\" >0</td>\n",
       "      <td id=\"T_86d4e_row7_col5\" class=\"data row7 col5\" >0</td>\n",
       "      <td id=\"T_86d4e_row7_col6\" class=\"data row7 col6\" >0</td>\n",
       "      <td id=\"T_86d4e_row7_col7\" class=\"data row7 col7\" >14</td>\n",
       "      <td id=\"T_86d4e_row7_col8\" class=\"data row7 col8\" >101</td>\n",
       "      <td id=\"T_86d4e_row7_col9\" class=\"data row7 col9\" >223</td>\n",
       "      <td id=\"T_86d4e_row7_col10\" class=\"data row7 col10\" >253</td>\n",
       "      <td id=\"T_86d4e_row7_col11\" class=\"data row7 col11\" >248</td>\n",
       "      <td id=\"T_86d4e_row7_col12\" class=\"data row7 col12\" >124</td>\n",
       "      <td id=\"T_86d4e_row7_col13\" class=\"data row7 col13\" >0</td>\n",
       "      <td id=\"T_86d4e_row7_col14\" class=\"data row7 col14\" >0</td>\n",
       "      <td id=\"T_86d4e_row7_col15\" class=\"data row7 col15\" >0</td>\n",
       "      <td id=\"T_86d4e_row7_col16\" class=\"data row7 col16\" >0</td>\n",
       "      <td id=\"T_86d4e_row7_col17\" class=\"data row7 col17\" >0</td>\n",
       "    </tr>\n",
       "    <tr>\n",
       "      <th id=\"T_86d4e_level0_row8\" class=\"row_heading level0 row8\" >8</th>\n",
       "      <td id=\"T_86d4e_row8_col0\" class=\"data row8 col0\" >0</td>\n",
       "      <td id=\"T_86d4e_row8_col1\" class=\"data row8 col1\" >0</td>\n",
       "      <td id=\"T_86d4e_row8_col2\" class=\"data row8 col2\" >0</td>\n",
       "      <td id=\"T_86d4e_row8_col3\" class=\"data row8 col3\" >0</td>\n",
       "      <td id=\"T_86d4e_row8_col4\" class=\"data row8 col4\" >0</td>\n",
       "      <td id=\"T_86d4e_row8_col5\" class=\"data row8 col5\" >11</td>\n",
       "      <td id=\"T_86d4e_row8_col6\" class=\"data row8 col6\" >166</td>\n",
       "      <td id=\"T_86d4e_row8_col7\" class=\"data row8 col7\" >239</td>\n",
       "      <td id=\"T_86d4e_row8_col8\" class=\"data row8 col8\" >253</td>\n",
       "      <td id=\"T_86d4e_row8_col9\" class=\"data row8 col9\" >253</td>\n",
       "      <td id=\"T_86d4e_row8_col10\" class=\"data row8 col10\" >253</td>\n",
       "      <td id=\"T_86d4e_row8_col11\" class=\"data row8 col11\" >187</td>\n",
       "      <td id=\"T_86d4e_row8_col12\" class=\"data row8 col12\" >30</td>\n",
       "      <td id=\"T_86d4e_row8_col13\" class=\"data row8 col13\" >0</td>\n",
       "      <td id=\"T_86d4e_row8_col14\" class=\"data row8 col14\" >0</td>\n",
       "      <td id=\"T_86d4e_row8_col15\" class=\"data row8 col15\" >0</td>\n",
       "      <td id=\"T_86d4e_row8_col16\" class=\"data row8 col16\" >0</td>\n",
       "      <td id=\"T_86d4e_row8_col17\" class=\"data row8 col17\" >0</td>\n",
       "    </tr>\n",
       "    <tr>\n",
       "      <th id=\"T_86d4e_level0_row9\" class=\"row_heading level0 row9\" >9</th>\n",
       "      <td id=\"T_86d4e_row9_col0\" class=\"data row9 col0\" >0</td>\n",
       "      <td id=\"T_86d4e_row9_col1\" class=\"data row9 col1\" >0</td>\n",
       "      <td id=\"T_86d4e_row9_col2\" class=\"data row9 col2\" >0</td>\n",
       "      <td id=\"T_86d4e_row9_col3\" class=\"data row9 col3\" >0</td>\n",
       "      <td id=\"T_86d4e_row9_col4\" class=\"data row9 col4\" >0</td>\n",
       "      <td id=\"T_86d4e_row9_col5\" class=\"data row9 col5\" >16</td>\n",
       "      <td id=\"T_86d4e_row9_col6\" class=\"data row9 col6\" >248</td>\n",
       "      <td id=\"T_86d4e_row9_col7\" class=\"data row9 col7\" >250</td>\n",
       "      <td id=\"T_86d4e_row9_col8\" class=\"data row9 col8\" >253</td>\n",
       "      <td id=\"T_86d4e_row9_col9\" class=\"data row9 col9\" >253</td>\n",
       "      <td id=\"T_86d4e_row9_col10\" class=\"data row9 col10\" >253</td>\n",
       "      <td id=\"T_86d4e_row9_col11\" class=\"data row9 col11\" >253</td>\n",
       "      <td id=\"T_86d4e_row9_col12\" class=\"data row9 col12\" >232</td>\n",
       "      <td id=\"T_86d4e_row9_col13\" class=\"data row9 col13\" >213</td>\n",
       "      <td id=\"T_86d4e_row9_col14\" class=\"data row9 col14\" >111</td>\n",
       "      <td id=\"T_86d4e_row9_col15\" class=\"data row9 col15\" >2</td>\n",
       "      <td id=\"T_86d4e_row9_col16\" class=\"data row9 col16\" >0</td>\n",
       "      <td id=\"T_86d4e_row9_col17\" class=\"data row9 col17\" >0</td>\n",
       "    </tr>\n",
       "    <tr>\n",
       "      <th id=\"T_86d4e_level0_row10\" class=\"row_heading level0 row10\" >10</th>\n",
       "      <td id=\"T_86d4e_row10_col0\" class=\"data row10 col0\" >0</td>\n",
       "      <td id=\"T_86d4e_row10_col1\" class=\"data row10 col1\" >0</td>\n",
       "      <td id=\"T_86d4e_row10_col2\" class=\"data row10 col2\" >0</td>\n",
       "      <td id=\"T_86d4e_row10_col3\" class=\"data row10 col3\" >0</td>\n",
       "      <td id=\"T_86d4e_row10_col4\" class=\"data row10 col4\" >0</td>\n",
       "      <td id=\"T_86d4e_row10_col5\" class=\"data row10 col5\" >0</td>\n",
       "      <td id=\"T_86d4e_row10_col6\" class=\"data row10 col6\" >0</td>\n",
       "      <td id=\"T_86d4e_row10_col7\" class=\"data row10 col7\" >43</td>\n",
       "      <td id=\"T_86d4e_row10_col8\" class=\"data row10 col8\" >98</td>\n",
       "      <td id=\"T_86d4e_row10_col9\" class=\"data row10 col9\" >98</td>\n",
       "      <td id=\"T_86d4e_row10_col10\" class=\"data row10 col10\" >208</td>\n",
       "      <td id=\"T_86d4e_row10_col11\" class=\"data row10 col11\" >253</td>\n",
       "      <td id=\"T_86d4e_row10_col12\" class=\"data row10 col12\" >253</td>\n",
       "      <td id=\"T_86d4e_row10_col13\" class=\"data row10 col13\" >253</td>\n",
       "      <td id=\"T_86d4e_row10_col14\" class=\"data row10 col14\" >253</td>\n",
       "      <td id=\"T_86d4e_row10_col15\" class=\"data row10 col15\" >187</td>\n",
       "      <td id=\"T_86d4e_row10_col16\" class=\"data row10 col16\" >22</td>\n",
       "      <td id=\"T_86d4e_row10_col17\" class=\"data row10 col17\" >0</td>\n",
       "    </tr>\n",
       "  </tbody>\n",
       "</table>\n"
      ],
      "text/plain": [
       "<pandas.io.formats.style.Styler at 0x7f7f3320dd10>"
      ]
     },
     "execution_count": 11,
     "metadata": {},
     "output_type": "execute_result"
    }
   ],
   "source": [
    "im3_t = tensor(im3)\n",
    "df = pd.DataFrame(im3_t[4:15,4:22])\n",
    "df.style.set_properties(**{'font-size':'6pt'}).background_gradient('Blues')"
   ]
  },
  {
   "cell_type": "markdown",
   "id": "f537d3fd-e78e-4516-99c8-9d35222e5722",
   "metadata": {},
   "source": [
    "## Pixel Similarity Approach"
   ]
  },
  {
   "cell_type": "code",
   "execution_count": 12,
   "id": "98f250b0-c4cd-4838-ab11-f229417a478c",
   "metadata": {},
   "outputs": [
    {
     "data": {
      "text/plain": [
       "(6131, 6265)"
      ]
     },
     "execution_count": 12,
     "metadata": {},
     "output_type": "execute_result"
    }
   ],
   "source": [
    "seven_tensors = [tensor(Image.open(p)) for p in sevens]\n",
    "three_tensors = [tensor(Image.open(p)) for p in threes]\n",
    "len(three_tensors), len(seven_tensors)"
   ]
  },
  {
   "cell_type": "code",
   "execution_count": 13,
   "id": "50b6cf31-b860-4469-98f3-c28e051edc4e",
   "metadata": {},
   "outputs": [
    {
     "data": {
      "text/plain": [
       "<Axes: >"
      ]
     },
     "execution_count": 13,
     "metadata": {},
     "output_type": "execute_result"
    },
    {
     "data": {
      "image/png": "[encoded data removed]",
      "text/plain": [
       "<Figure size 100x100 with 1 Axes>"
      ]
     },
     "metadata": {},
     "output_type": "display_data"
    }
   ],
   "source": [
    "show_image(three_tensors[1])"
   ]
  },
  {
   "cell_type": "code",
   "execution_count": 14,
   "id": "19629773-6e08-432b-a93e-e5c4db145489",
   "metadata": {},
   "outputs": [
    {
     "data": {
      "text/plain": [
       "torch.Size([6265, 28, 28])"
      ]
     },
     "execution_count": 14,
     "metadata": {},
     "output_type": "execute_result"
    }
   ],
   "source": [
    "stacked_sevens = torch.stack(seven_tensors).float() / 255\n",
    "stacked_threes = torch.stack(three_tensors).float() / 255\n",
    "stacked_sevens.shape"
   ]
  },
  {
   "cell_type": "markdown",
   "id": "055e0e54-3ab0-4791-9728-696d06fb62c0",
   "metadata": {},
   "source": [
    "> Rank is the number of axes or dimensions in a tensor; shape is the size of each axis of a tensor"
   ]
  },
  {
   "cell_type": "code",
   "execution_count": 15,
   "id": "f67d804d-f7ea-4e20-a6be-a3a797c284bb",
   "metadata": {},
   "outputs": [
    {
     "data": {
      "text/plain": [
       "\u001b[0;31mDocstring:\u001b[0m\n",
       "mean(dim=None, keepdim=False, *, dtype=None) -> Tensor\n",
       "\n",
       "See :func:`torch.mean`\n",
       "\u001b[0;31mType:\u001b[0m      method_descriptor"
      ]
     },
     "metadata": {},
     "output_type": "display_data"
    }
   ],
   "source": [
    "?Tensor.mean"
   ]
  },
  {
   "cell_type": "code",
   "execution_count": 16,
   "id": "55e375e7-d8f4-4f9a-911f-84252d3caf12",
   "metadata": {},
   "outputs": [
    {
     "data": {
      "text/plain": [
       "<Axes: >"
      ]
     },
     "execution_count": 16,
     "metadata": {},
     "output_type": "execute_result"
    },
    {
     "data": {
      "image/png": "[encoded data removed]",
      "text/plain": [
       "<Figure size 100x100 with 1 Axes>"
      ]
     },
     "metadata": {},
     "output_type": "display_data"
    }
   ],
   "source": [
    "mean3 = stacked_threes.mean(0)\n",
    "show_image(mean3)"
   ]
  },
  {
   "cell_type": "code",
   "execution_count": 17,
   "id": "0ed93eb4-e07c-487d-b4ce-4dc394c86aaf",
   "metadata": {},
   "outputs": [
    {
     "data": {
      "text/plain": [
       "<Axes: >"
      ]
     },
     "execution_count": 17,
     "metadata": {},
     "output_type": "execute_result"
    },
    {
     "data": {
      "image/png": "[encoded data removed]",
      "text/plain": [
       "<Figure size 100x100 with 1 Axes>"
      ]
     },
     "metadata": {},
     "output_type": "display_data"
    }
   ],
   "source": [
    "mean7 = stacked_sevens.mean(0)\n",
    "show_image(mean7)"
   ]
  },
  {
   "cell_type": "code",
   "execution_count": 18,
   "id": "61bde51e-0346-4f27-836f-b88aa87736f7",
   "metadata": {},
   "outputs": [
    {
     "data": {
      "text/plain": [
       "<Axes: >"
      ]
     },
     "execution_count": 18,
     "metadata": {},
     "output_type": "execute_result"
    },
    {
     "data": {
      "image/png": "[encoded data removed]",
      "text/plain": [
       "<Figure size 100x100 with 1 Axes>"
      ]
     },
     "metadata": {},
     "output_type": "display_data"
    }
   ],
   "source": [
    "a_3 = stacked_threes[1]\n",
    "show_image(a_3)"
   ]
  },
  {
   "cell_type": "code",
   "execution_count": 19,
   "id": "565286e7-6475-453c-b3f3-410ebf6cb593",
   "metadata": {},
   "outputs": [
    {
     "data": {
      "text/plain": [
       "(tensor(0.1114), tensor(0.2021))"
      ]
     },
     "execution_count": 19,
     "metadata": {},
     "output_type": "execute_result"
    }
   ],
   "source": [
    "dist_3_l1 = (a_3 - mean3).abs().mean()\n",
    "dist_3_sqr = ((a_3 - mean3)**2).mean().sqrt()\n",
    "dist_3_l1, dist_3_sqr"
   ]
  },
  {
   "cell_type": "code",
   "execution_count": 20,
   "id": "da8e411e-28bb-461d-ac64-6f59f9c1bca4",
   "metadata": {},
   "outputs": [
    {
     "data": {
      "text/plain": [
       "(tensor(0.1586), tensor(0.3021))"
      ]
     },
     "execution_count": 20,
     "metadata": {},
     "output_type": "execute_result"
    }
   ],
   "source": [
    "dist_7_l1 = (a_3 - mean7).abs().mean()\n",
    "dist_7_sqr = ((a_3 - mean7)**2).mean().sqrt()\n",
    "dist_7_l1, dist_7_sqr"
   ]
  },
  {
   "cell_type": "code",
   "execution_count": 21,
   "id": "8e41c840-81b6-480c-a18e-cd42710f98cd",
   "metadata": {},
   "outputs": [
    {
     "data": {
      "text/plain": [
       "(tensor(0.1586), tensor(0.3021))"
      ]
     },
     "execution_count": 21,
     "metadata": {},
     "output_type": "execute_result"
    }
   ],
   "source": [
    "F.l1_loss(a_3, mean7), F.mse_loss(a_3, mean7).sqrt()"
   ]
  },
  {
   "cell_type": "markdown",
   "id": "bddb22eb-54bb-4234-a18b-c191760d9976",
   "metadata": {},
   "source": [
    "The magic trick is that PyTorch, when it tries to perform a simple subtraction operation between two tensors of different ranks, will use broadcasting. That is, it will automatically expand the tensor with the smaller rank to have the same size as the one with the larger rank. Broadcasting is an important capability that makes tensor code much easier to write."
   ]
  },
  {
   "cell_type": "markdown",
   "id": "9b2aae49-7cf8-4f33-9cfa-c6fa1149676d",
   "metadata": {
    "jp-MarkdownHeadingCollapsed": true
   },
   "source": [
    "## Stochastic Gradient Descent"
   ]
  },
  {
   "cell_type": "code",
   "execution_count": 22,
   "id": "7595fab2-4436-4057-a07f-6bcf8fddb10e",
   "metadata": {},
   "outputs": [
    {
     "data": {
      "text/plain": [
       "\u001b[0;31mDocstring:\u001b[0m\n",
       "requires_grad_(requires_grad=True) -> Tensor\n",
       "\n",
       "Change if autograd should record operations on this tensor: sets this tensor's\n",
       ":attr:`requires_grad` attribute in-place. Returns this tensor.\n",
       "\n",
       ":func:`requires_grad_`'s main use case is to tell autograd to begin recording\n",
       "operations on a Tensor ``tensor``. If ``tensor`` has ``requires_grad=False``\n",
       "(because it was obtained through a DataLoader, or required preprocessing or\n",
       "initialization), ``tensor.requires_grad_()`` makes it so that autograd will\n",
       "begin to record operations on ``tensor``.\n",
       "\n",
       "Args:\n",
       "    requires_grad (bool): If autograd should record operations on this tensor.\n",
       "        Default: ``True``.\n",
       "\n",
       "Example::\n",
       "\n",
       "    >>> # Let's say we want to preprocess some saved weights and use\n",
       "    >>> # the result as new weights.\n",
       "    >>> saved_weights = [0.1, 0.2, 0.3, 0.25]\n",
       "    >>> loaded_weights = torch.tensor(saved_weights)\n",
       "    >>> weights = preprocess(loaded_weights)  # some function\n",
       "    >>> weights\n",
       "    tensor([-0.5503,  0.4926, -2.1158, -0.8303])\n",
       "\n",
       "    >>> # Now, start to record operations done to weights\n",
       "    >>> weights.requires_grad_()\n",
       "    >>> out = weights.pow(2).sum()\n",
       "    >>> out.backward()\n",
       "    >>> weights.grad\n",
       "    tensor([-1.1007,  0.9853, -4.2316, -1.6606])\n",
       "\u001b[0;31mType:\u001b[0m      method_descriptor"
      ]
     },
     "metadata": {},
     "output_type": "display_data"
    }
   ],
   "source": [
    "?Tensor.requires_grad_"
   ]
  },
  {
   "cell_type": "code",
   "execution_count": 23,
   "id": "a79aaf28-8736-4cd6-83f8-2eff8c9aa41b",
   "metadata": {},
   "outputs": [],
   "source": [
    "xt = tensor(3.).requires_grad_()"
   ]
  },
  {
   "cell_type": "code",
   "execution_count": 24,
   "id": "48a3f0cb-5f08-46f5-9f2f-7e6a414aa62d",
   "metadata": {},
   "outputs": [
    {
     "data": {
      "text/plain": [
       "tensor(9., grad_fn=<SumBackward0>)"
      ]
     },
     "execution_count": 24,
     "metadata": {},
     "output_type": "execute_result"
    }
   ],
   "source": [
    "def f(x): return (x**2).sum()\n",
    "\n",
    "yt = f(xt)\n",
    "yt"
   ]
  },
  {
   "cell_type": "code",
   "execution_count": 25,
   "id": "f38faede-32c8-487d-ac6c-5f561f42495f",
   "metadata": {},
   "outputs": [
    {
     "data": {
      "text/plain": [
       "tensor(6.)"
      ]
     },
     "execution_count": 25,
     "metadata": {},
     "output_type": "execute_result"
    }
   ],
   "source": [
    "yt.backward()\n",
    "xt.grad"
   ]
  },
  {
   "cell_type": "markdown",
   "id": "b762efe5-e4fc-4f54-86d9-2a8525c69b28",
   "metadata": {},
   "source": [
    "## End-to-end SGD Example"
   ]
  },
  {
   "cell_type": "code",
   "execution_count": null,
   "id": "20eb160a-4be9-48ad-8981-c24783d3d61f",
   "metadata": {},
   "outputs": [],
   "source": []
  },
  {
   "cell_type": "code",
   "execution_count": 26,
   "id": "1a39227a-d8e7-4b0b-b35b-90ad6ef9fa09",
   "metadata": {},
   "outputs": [
    {
     "data": {
      "text/plain": [
       "tensor([ 0.,  1.,  2.,  3.,  4.,  5.,  6.,  7.,  8.,  9., 10., 11., 12., 13., 14., 15., 16., 17., 18., 19.])"
      ]
     },
     "execution_count": 26,
     "metadata": {},
     "output_type": "execute_result"
    }
   ],
   "source": [
    "time = torch.arange(0, 20).float()\n",
    "time"
   ]
  },
  {
   "cell_type": "code",
   "execution_count": 27,
   "id": "eb6b4953-5ed7-4f14-8fc5-c9c28bd8ec13",
   "metadata": {},
   "outputs": [
    {
     "data": {
      "text/plain": [
       "<matplotlib.collections.PathCollection at 0x7f7f329e48d0>"
      ]
     },
     "execution_count": 27,
     "metadata": {},
     "output_type": "execute_result"
    },
    {
     "data": {
      "image/png": "[encoded data removed]",
      "text/plain": [
       "<Figure size 640x480 with 1 Axes>"
      ]
     },
     "metadata": {},
     "output_type": "display_data"
    }
   ],
   "source": [
    "speed = torch.randn(20) * 3 + 0.75 * (time - 9.5)**2 + 1\n",
    "plt.scatter(time, speed)"
   ]
  },
  {
   "cell_type": "code",
   "execution_count": 28,
   "id": "14af7d9f-52de-44c1-83ee-3e0ee6c71bf6",
   "metadata": {},
   "outputs": [],
   "source": [
    "def f(t, params):\n",
    "    a, b, c = params\n",
    "    return a * (t ** 2) + (b * t) + c"
   ]
  },
  {
   "cell_type": "code",
   "execution_count": 29,
   "id": "004c9507-b11e-4750-a26c-44ec3e3a5f65",
   "metadata": {},
   "outputs": [],
   "source": [
    "def mse(preds, targets):\n",
    "    return ((preds - targets) ** 2).mean()"
   ]
  },
  {
   "cell_type": "markdown",
   "id": "47cbc478-3120-46dc-a55b-e8f2542910e1",
   "metadata": {},
   "source": [
    "### Step 1: init params"
   ]
  },
  {
   "cell_type": "code",
   "execution_count": 30,
   "id": "23bee357-fd80-416f-9b07-0b59c4135537",
   "metadata": {},
   "outputs": [],
   "source": [
    "params = torch.randn(3).requires_grad_()"
   ]
  },
  {
   "cell_type": "code",
   "execution_count": 31,
   "id": "e1a38964-3b7c-4a76-8c8d-89edf187c434",
   "metadata": {},
   "outputs": [],
   "source": [
    "orig_params = params.clone()"
   ]
  },
  {
   "cell_type": "markdown",
   "id": "cbddf6a2-8d28-4cb0-8065-d83ceacaa064",
   "metadata": {},
   "source": [
    "### Step 2:Calculate predictions"
   ]
  },
  {
   "cell_type": "code",
   "execution_count": 32,
   "id": "f8d8f5cb-ea7a-477e-a4a8-fa109e74a711",
   "metadata": {},
   "outputs": [
    {
     "data": {
      "text/plain": [
       "tensor([ 1.3525e+00, -1.6391e-01, -3.2121e+00, -7.7919e+00, -1.3903e+01, -2.1547e+01, -3.0721e+01, -4.1428e+01, -5.3666e+01, -6.7436e+01, -8.2738e+01, -9.9571e+01, -1.1794e+02, -1.3783e+02,\n",
       "        -1.5926e+02, -1.8222e+02, -2.0671e+02, -2.3274e+02, -2.6029e+02, -2.8938e+02], grad_fn=<AddBackward0>)"
      ]
     },
     "execution_count": 32,
     "metadata": {},
     "output_type": "execute_result"
    }
   ],
   "source": [
    "preds = f(time, params)\n",
    "preds"
   ]
  },
  {
   "cell_type": "code",
   "execution_count": 33,
   "id": "3885b0ff-118a-46d4-b4d1-750ca624da46",
   "metadata": {},
   "outputs": [],
   "source": [
    "def show_preds(preds, ax=None):\n",
    "    if ax is None:\n",
    "        ax = plt.subplots()[1]\n",
    "    ax.scatter(time, speed)\n",
    "    ax.scatter(time, to_np(preds), color='red')\n",
    "    ax.set_ylim(-300, 100)"
   ]
  },
  {
   "cell_type": "code",
   "execution_count": 34,
   "id": "6d4757b8-92e8-485e-890e-8d52918ca3cc",
   "metadata": {},
   "outputs": [
    {
     "data": {
      "image/png": "[encoded data removed]",
      "text/plain": [
       "<Figure size 640x480 with 1 Axes>"
      ]
     },
     "metadata": {},
     "output_type": "display_data"
    }
   ],
   "source": [
    "show_preds(preds)"
   ]
  },
  {
   "cell_type": "markdown",
   "id": "19356b90-8351-47cb-9166-3f0753b5fe1d",
   "metadata": {},
   "source": [
    "### Step 3: Calculate Loss"
   ]
  },
  {
   "cell_type": "code",
   "execution_count": 35,
   "id": "e00c36d5-cb4a-4d15-8124-0df8c9276a22",
   "metadata": {},
   "outputs": [
    {
     "data": {
      "text/plain": [
       "tensor(25823.8086, grad_fn=<MeanBackward0>)"
      ]
     },
     "execution_count": 35,
     "metadata": {},
     "output_type": "execute_result"
    }
   ],
   "source": [
    "loss = mse(preds, speed)\n",
    "loss"
   ]
  },
  {
   "cell_type": "markdown",
   "id": "95c02a57-5318-462e-85ce-99eac0ab610a",
   "metadata": {},
   "source": [
    "### Step 4: Calculate the grads"
   ]
  },
  {
   "cell_type": "code",
   "execution_count": 36,
   "id": "7adc549f-d5d8-40f9-bd72-bf07e6993723",
   "metadata": {},
   "outputs": [],
   "source": [
    "loss.backward()"
   ]
  },
  {
   "cell_type": "code",
   "execution_count": 37,
   "id": "5cacc373-65c8-4ca4-b0e3-4050329f3354",
   "metadata": {},
   "outputs": [
    {
     "data": {
      "text/plain": [
       "tensor([-53195.8633,  -3419.7148,   -253.8908])"
      ]
     },
     "execution_count": 37,
     "metadata": {},
     "output_type": "execute_result"
    }
   ],
   "source": [
    "params.grad"
   ]
  },
  {
   "cell_type": "code",
   "execution_count": 38,
   "id": "8baae8f2-2caa-47f4-9eec-a2a1f5723484",
   "metadata": {},
   "outputs": [
    {
     "data": {
      "text/plain": [
       "tensor([-0.7658, -0.7506,  1.3525], requires_grad=True)"
      ]
     },
     "execution_count": 38,
     "metadata": {},
     "output_type": "execute_result"
    }
   ],
   "source": [
    "params"
   ]
  },
  {
   "cell_type": "markdown",
   "id": "43cacf50-2f12-43e5-a4e8-20dd5b6ab276",
   "metadata": {},
   "source": [
    "### Step 5: Step the weights"
   ]
  },
  {
   "cell_type": "code",
   "execution_count": 39,
   "id": "c7269bb5-6ba9-48b0-ba64-dd010bb02dcc",
   "metadata": {},
   "outputs": [],
   "source": [
    "lr = 1e-5\n",
    "params.data -= lr * params.grad.data\n",
    "params.grad = None"
   ]
  },
  {
   "cell_type": "markdown",
   "id": "629ae1aa-f504-4f88-a99d-9fefb596fd21",
   "metadata": {},
   "source": [
    "> Understanding this bit depends on remembering recent history. To calculate the gradients we call backward on the loss. But this loss was itself calculated by mse, which in turn took preds as an input, which was calculated using f taking as an input params, which was the object on which we originally called requires_grad_—which is the original call that now allows us to call backward on loss. This chain of function calls represents the mathematical composition of functions, which enables PyTorch to use calculus's chain rule under the hood to calculate these gradients."
   ]
  },
  {
   "cell_type": "code",
   "execution_count": 40,
   "id": "f19ff0d2-d400-43eb-8aab-31e4aaa30fbc",
   "metadata": {},
   "outputs": [
    {
     "data": {
      "text/plain": [
       "tensor(5435.5356, grad_fn=<MeanBackward0>)"
      ]
     },
     "execution_count": 40,
     "metadata": {},
     "output_type": "execute_result"
    }
   ],
   "source": [
    "preds = f(time, params)\n",
    "mse(preds, speed)"
   ]
  },
  {
   "cell_type": "code",
   "execution_count": 41,
   "id": "137aa0a1-7f91-4ad5-9084-158d0c336848",
   "metadata": {},
   "outputs": [
    {
     "data": {
      "image/png": "[encoded data removed]",
      "text/plain": [
       "<Figure size 640x480 with 1 Axes>"
      ]
     },
     "metadata": {},
     "output_type": "display_data"
    }
   ],
   "source": [
    "show_preds(preds)"
   ]
  },
  {
   "cell_type": "code",
   "execution_count": 42,
   "id": "5caabd15-beb1-4615-84f4-1025a4757768",
   "metadata": {},
   "outputs": [],
   "source": [
    "def apply_step(params, prn=True):\n",
    "    preds = f(time, params)\n",
    "    loss = mse(preds, speed)\n",
    "    loss.backward()\n",
    "    params.data -= lr * params.grad.data\n",
    "    params.grad = None\n",
    "    if prn: print(loss.item())\n",
    "    return preds"
   ]
  },
  {
   "cell_type": "markdown",
   "id": "ea8c46d5-fcf0-4144-b6f2-273c7a663e07",
   "metadata": {},
   "source": [
    "### Step 6: Repeat the Process"
   ]
  },
  {
   "cell_type": "code",
   "execution_count": 43,
   "id": "6247852c-bed5-4c3e-9314-fa77d3580fe1",
   "metadata": {},
   "outputs": [
    {
     "name": "stdout",
     "output_type": "stream",
     "text": [
      "5435.53564453125\n",
      "1577.44921875\n",
      "847.3778076171875\n",
      "709.2225341796875\n",
      "683.0758056640625\n",
      "678.1243896484375\n",
      "677.1838989257812\n",
      "677.0023803710938\n",
      "676.9645385742188\n",
      "676.9537353515625\n"
     ]
    }
   ],
   "source": [
    "for i in range(10):\n",
    "    apply_step(params)"
   ]
  },
  {
   "cell_type": "code",
   "execution_count": 44,
   "id": "239e4c5c-ded9-475e-b873-ae3a6d2a2694",
   "metadata": {},
   "outputs": [],
   "source": [
    "params = orig_params.detach().requires_grad_()"
   ]
  },
  {
   "cell_type": "code",
   "execution_count": 45,
   "id": "3de449fd-2908-404b-8988-e726488950f7",
   "metadata": {},
   "outputs": [
    {
     "data": {
      "image/png": "[encoded data removed]",
      "text/plain": [
       "<Figure size 1200x300 with 4 Axes>"
      ]
     },
     "metadata": {},
     "output_type": "display_data"
    }
   ],
   "source": [
    "_, axs = plt.subplots(1, 4, figsize=(12, 3))\n",
    "for ax in axs: show_preds(apply_step(params, False), ax)\n",
    "plt.tight_layout()"
   ]
  },
  {
   "cell_type": "markdown",
   "id": "0e8efaba-c2cc-4e7a-b8c8-90ffaae9a311",
   "metadata": {},
   "source": [
    "## MNIST "
   ]
  },
  {
   "cell_type": "code",
   "execution_count": 46,
   "id": "6e0a5006-205e-423b-a27d-0df55ffb72db",
   "metadata": {},
   "outputs": [
    {
     "data": {
      "text/plain": [
       "(torch.Size([6131, 28, 28]),\n",
       " torch.Size([6265, 28, 28]),\n",
       " torch.Size([12396, 784]))"
      ]
     },
     "execution_count": 46,
     "metadata": {},
     "output_type": "execute_result"
    }
   ],
   "source": [
    "# view(-1, n) means make this axis as large as possible to accommodate all values\n",
    "train_x = torch.cat([stacked_threes, stacked_sevens]).view(-1, 28 * 28)\n",
    "stacked_threes.shape, stacked_sevens.shape, train_x.shape"
   ]
  },
  {
   "cell_type": "code",
   "execution_count": 47,
   "id": "ee73ad71-80dc-486e-a00a-e04763bc1efd",
   "metadata": {},
   "outputs": [
    {
     "data": {
      "text/plain": [
       "\u001b[0;31mDocstring:\u001b[0m\n",
       "unsqueeze(input, dim) -> Tensor\n",
       "\n",
       "Returns a new tensor with a dimension of size one inserted at the\n",
       "specified position.\n",
       "\n",
       "The returned tensor shares the same underlying data with this tensor.\n",
       "\n",
       "A :attr:`dim` value within the range ``[-input.dim() - 1, input.dim() + 1)``\n",
       "can be used. Negative :attr:`dim` will correspond to :meth:`unsqueeze`\n",
       "applied at :attr:`dim` = ``dim + input.dim() + 1``.\n",
       "\n",
       "Args:\n",
       "    input (Tensor): the input tensor.\n",
       "    dim (int): the index at which to insert the singleton dimension\n",
       "\n",
       "Example::\n",
       "\n",
       "    >>> x = torch.tensor([1, 2, 3, 4])\n",
       "    >>> torch.unsqueeze(x, 0)\n",
       "    tensor([[ 1,  2,  3,  4]])\n",
       "    >>> torch.unsqueeze(x, 1)\n",
       "    tensor([[ 1],\n",
       "            [ 2],\n",
       "            [ 3],\n",
       "            [ 4]])\n",
       "\u001b[0;31mType:\u001b[0m      builtin_function_or_method"
      ]
     },
     "metadata": {},
     "output_type": "display_data"
    }
   ],
   "source": [
    "?torch.unsqueeze"
   ]
  },
  {
   "cell_type": "code",
   "execution_count": 48,
   "id": "adab53df-26c4-4ec3-b4f1-f6522ee458b1",
   "metadata": {},
   "outputs": [
    {
     "data": {
      "text/plain": [
       "(torch.Size([12396, 784]), torch.Size([12396, 1]))"
      ]
     },
     "execution_count": 48,
     "metadata": {},
     "output_type": "execute_result"
    }
   ],
   "source": [
    "train_y = tensor([1] * len(threes) + [0] * len(sevens)).unsqueeze(1)\n",
    "train_x.shape, train_y.shape"
   ]
  },
  {
   "cell_type": "code",
   "execution_count": 49,
   "id": "2ae83f50-2378-428a-a0ef-7c0585aaa29f",
   "metadata": {},
   "outputs": [
    {
     "data": {
      "text/plain": [
       "(torch.Size([784]), tensor([1]))"
      ]
     },
     "execution_count": 49,
     "metadata": {},
     "output_type": "execute_result"
    }
   ],
   "source": [
    "dataset = list(zip(train_x, train_y))\n",
    "x, y = dataset[0]\n",
    "x.shape, y"
   ]
  },
  {
   "cell_type": "code",
   "execution_count": 50,
   "id": "0e3baf2e-7e64-4e92-9c9d-1263580c7f0b",
   "metadata": {},
   "outputs": [
    {
     "data": {
      "text/plain": [
       "(torch.Size([1010, 28, 28]), torch.Size([1028, 28, 28]))"
      ]
     },
     "execution_count": 50,
     "metadata": {},
     "output_type": "execute_result"
    }
   ],
   "source": [
    "valid_3_tens = torch.stack([tensor(Image.open(o)) for o in (path/'valid'/'3').ls()])\n",
    "valid_7_tens = torch.stack([tensor(Image.open(o)) for o in (path/'valid'/'7').ls()])\n",
    "\n",
    "valid_3_tens = valid_3_tens.float() / 255\n",
    "valid_7_tens = valid_7_tens.float() / 255\n",
    "valid_3_tens.shape, valid_7_tens.shape"
   ]
  },
  {
   "cell_type": "code",
   "execution_count": 51,
   "id": "e4daa83a-5213-4c19-9025-2ee19e2c864b",
   "metadata": {},
   "outputs": [],
   "source": [
    "valid_x = torch.cat([valid_3_tens, valid_7_tens]).view(-1, 28 * 28)\n",
    "valid_y = tensor([1] * len(valid_3_tens) + [0] * len(valid_7_tens)).unsqueeze(1)\n",
    "valid_dataset = list(zip(valid_x, valid_y))"
   ]
  },
  {
   "cell_type": "code",
   "execution_count": 52,
   "id": "52c8120a-efde-4aaa-995e-166620ee775e",
   "metadata": {},
   "outputs": [],
   "source": [
    "def init_params(size, std=1.0):\n",
    "    return (torch.randn(size) * std).requires_grad_()"
   ]
  },
  {
   "cell_type": "code",
   "execution_count": 53,
   "id": "20f812f9-c2c8-492f-acce-f1f70d33c92e",
   "metadata": {},
   "outputs": [
    {
     "data": {
      "text/plain": [
       "torch.Size([784, 1])"
      ]
     },
     "execution_count": 53,
     "metadata": {},
     "output_type": "execute_result"
    }
   ],
   "source": [
    "weights = init_params((28 * 28, 1))\n",
    "weights.shape"
   ]
  },
  {
   "cell_type": "code",
   "execution_count": 54,
   "id": "b8d9b4dc-4fc4-4d8b-a8da-69e991273cef",
   "metadata": {},
   "outputs": [],
   "source": [
    "bias = init_params(1)"
   ]
  },
  {
   "cell_type": "code",
   "execution_count": 55,
   "id": "c682a476-b594-431a-8979-f59371524160",
   "metadata": {},
   "outputs": [
    {
     "data": {
      "text/plain": [
       "tensor([20.2336], grad_fn=<AddBackward0>)"
      ]
     },
     "execution_count": 55,
     "metadata": {},
     "output_type": "execute_result"
    }
   ],
   "source": [
    "(train_x[0] * weights.T).sum() + bias"
   ]
  },
  {
   "cell_type": "code",
   "execution_count": 56,
   "id": "657a5efc-cf30-426b-8e0c-308b3ea20462",
   "metadata": {},
   "outputs": [],
   "source": [
    "def linear1(xb): return xb @ weights + bias"
   ]
  },
  {
   "cell_type": "code",
   "execution_count": 57,
   "id": "b9a2d258-2fba-4a1b-9869-173978b15579",
   "metadata": {},
   "outputs": [
    {
     "data": {
      "text/plain": [
       "tensor([[20.2336],\n",
       "        [17.0644],\n",
       "        [15.2384],\n",
       "        ...,\n",
       "        [18.3804],\n",
       "        [23.8567],\n",
       "        [28.6816]], grad_fn=<AddBackward0>)"
      ]
     },
     "execution_count": 57,
     "metadata": {},
     "output_type": "execute_result"
    }
   ],
   "source": [
    "preds = linear1(train_x)\n",
    "preds"
   ]
  },
  {
   "cell_type": "code",
   "execution_count": 58,
   "id": "8b92d92d-d9e2-4a88-9dfb-f9a38e06b1ad",
   "metadata": {},
   "outputs": [
    {
     "data": {
      "text/plain": [
       "tensor([[ True],\n",
       "        [ True],\n",
       "        [ True],\n",
       "        ...,\n",
       "        [False],\n",
       "        [False],\n",
       "        [False]])"
      ]
     },
     "execution_count": 58,
     "metadata": {},
     "output_type": "execute_result"
    }
   ],
   "source": [
    "corrects = (preds > 0.0).float() == train_y\n",
    "corrects"
   ]
  },
  {
   "cell_type": "code",
   "execution_count": 59,
   "id": "47cfb297-cea2-4f49-b2eb-5e9814a01ecf",
   "metadata": {},
   "outputs": [
    {
     "data": {
      "text/plain": [
       "0.4912068545818329"
      ]
     },
     "execution_count": 59,
     "metadata": {},
     "output_type": "execute_result"
    }
   ],
   "source": [
    "corrects.float().mean().item()"
   ]
  },
  {
   "cell_type": "code",
   "execution_count": 60,
   "id": "c1696035-9012-4f69-aaa7-c19956d1d88c",
   "metadata": {},
   "outputs": [],
   "source": [
    "# ask torch not to calculate gradients as we do this\n",
    "with torch.no_grad(): weights[0] *= 1.0001"
   ]
  },
  {
   "cell_type": "code",
   "execution_count": 61,
   "id": "d326f4cb-e698-474d-a929-27073fd5b675",
   "metadata": {},
   "outputs": [
    {
     "data": {
      "text/plain": [
       "0.4912068545818329"
      ]
     },
     "execution_count": 61,
     "metadata": {},
     "output_type": "execute_result"
    }
   ],
   "source": [
    "preds = linear1(train_x)\n",
    "((preds > 0.0).float() == train_y).float().mean().item()"
   ]
  },
  {
   "cell_type": "code",
   "execution_count": 62,
   "id": "65de0e90-3eca-4f53-8032-8f6415f20434",
   "metadata": {},
   "outputs": [],
   "source": [
    "def mnist_loss(predictions, targets):\n",
    "    predictions = predictions.sigmoid()\n",
    "    return torch.where(targets == 1, 1 - predictions, predictions).mean()"
   ]
  },
  {
   "cell_type": "markdown",
   "id": "74049930-c509-46e4-b6c6-1c3b7faa2306",
   "metadata": {},
   "source": [
    "### Mini-batches"
   ]
  },
  {
   "cell_type": "code",
   "execution_count": 63,
   "id": "f96c7d5d-39d8-437b-b252-40005f3bb335",
   "metadata": {},
   "outputs": [
    {
     "data": {
      "text/plain": [
       "[tensor([ 3, 12,  8, 10,  2]),\n",
       " tensor([ 9,  4,  7, 14,  5]),\n",
       " tensor([ 1, 13,  0,  6, 11])]"
      ]
     },
     "execution_count": 63,
     "metadata": {},
     "output_type": "execute_result"
    }
   ],
   "source": [
    "coll = range(15)\n",
    "dl = DataLoader(coll, batch_size=5, shuffle=True)\n",
    "list(dl)"
   ]
  },
  {
   "cell_type": "code",
   "execution_count": 64,
   "id": "b9215699-e6b3-4c46-8c88-fe9cc3beb89e",
   "metadata": {},
   "outputs": [
    {
     "data": {
      "text/plain": [
       "\u001b[0;31mInit signature:\u001b[0m \u001b[0mL\u001b[0m\u001b[0;34m(\u001b[0m\u001b[0mitems\u001b[0m\u001b[0;34m=\u001b[0m\u001b[0;32mNone\u001b[0m\u001b[0;34m,\u001b[0m \u001b[0;34m*\u001b[0m\u001b[0mrest\u001b[0m\u001b[0;34m,\u001b[0m \u001b[0muse_list\u001b[0m\u001b[0;34m=\u001b[0m\u001b[0;32mFalse\u001b[0m\u001b[0;34m,\u001b[0m \u001b[0mmatch\u001b[0m\u001b[0;34m=\u001b[0m\u001b[0;32mNone\u001b[0m\u001b[0;34m)\u001b[0m\u001b[0;34m\u001b[0m\u001b[0;34m\u001b[0m\u001b[0m\n",
       "\u001b[0;31mDocstring:\u001b[0m      Behaves like a list of `items` but can also index with list of indices or masks\n",
       "\u001b[0;31mFile:\u001b[0m           ~/venvs/ml/lib/python3.11/site-packages/fastcore/foundation.py\n",
       "\u001b[0;31mType:\u001b[0m           _L_Meta\n",
       "\u001b[0;31mSubclasses:\u001b[0m     TfmdLists, MultiCategory, LabeledBBox"
      ]
     },
     "metadata": {},
     "output_type": "display_data"
    }
   ],
   "source": [
    "?L"
   ]
  },
  {
   "cell_type": "code",
   "execution_count": 65,
   "id": "7b5075b3-f725-4dee-9d25-cd6963bbf6b0",
   "metadata": {},
   "outputs": [
    {
     "data": {
      "text/plain": [
       "(#26) [(0, 'A'),(1, 'B'),(2, 'C'),(3, 'D'),(4, 'E'),(5, 'F'),(6, 'G'),(7, 'H'),(8, 'I'),(9, 'J'),(10, 'K'),(11, 'L'),(12, 'M'),(13, 'N'),(14, 'O'),(15, 'P'),(16, 'Q'),(17, 'R'),(18, 'S'),(19, 'T')...]"
      ]
     },
     "execution_count": 65,
     "metadata": {},
     "output_type": "execute_result"
    }
   ],
   "source": [
    "ds = L(enumerate(string.ascii_uppercase))\n",
    "ds"
   ]
  },
  {
   "cell_type": "code",
   "execution_count": 66,
   "id": "8f22e190-43c4-41bb-b435-e77724b209ff",
   "metadata": {},
   "outputs": [
    {
     "data": {
      "text/plain": [
       "[(tensor([17, 18, 10, 22,  8, 14]), ('R', 'S', 'K', 'W', 'I', 'O')),\n",
       " (tensor([20, 15,  9, 13, 21, 12]), ('U', 'P', 'J', 'N', 'V', 'M')),\n",
       " (tensor([ 7, 25,  6,  5, 11, 23]), ('H', 'Z', 'G', 'F', 'L', 'X')),\n",
       " (tensor([ 1,  3,  0, 24, 19, 16]), ('B', 'D', 'A', 'Y', 'T', 'Q')),\n",
       " (tensor([2, 4]), ('C', 'E'))]"
      ]
     },
     "execution_count": 66,
     "metadata": {},
     "output_type": "execute_result"
    }
   ],
   "source": [
    "dl = DataLoader(ds, batch_size=6, shuffle=True)\n",
    "list(dl)"
   ]
  },
  {
   "cell_type": "markdown",
   "id": "bba40458-8bd3-4824-aa71-9eb77af1ac2e",
   "metadata": {},
   "source": [
    "### Putting All Together"
   ]
  },
  {
   "cell_type": "code",
   "execution_count": 67,
   "id": "d261526f-361c-4a3b-bd95-002f33e07c39",
   "metadata": {},
   "outputs": [],
   "source": [
    "weights = init_params((28 * 28, 1))\n",
    "bias = init_params(1)"
   ]
  },
  {
   "cell_type": "code",
   "execution_count": 68,
   "id": "03101acb-9e95-41b9-8c66-2541555ecdb0",
   "metadata": {},
   "outputs": [
    {
     "data": {
      "text/plain": [
       "(torch.Size([256, 784]), torch.Size([256, 1]))"
      ]
     },
     "execution_count": 68,
     "metadata": {},
     "output_type": "execute_result"
    }
   ],
   "source": [
    "dl = DataLoader(dataset, batch_size=256)\n",
    "xb, yb = first(dl)\n",
    "xb.shape, yb.shape"
   ]
  },
  {
   "cell_type": "code",
   "execution_count": 69,
   "id": "61aec77b-0fbb-4765-a23c-4252b742b6f2",
   "metadata": {},
   "outputs": [],
   "source": [
    "valid_dl = DataLoader(valid_dataset, batch_size=256)"
   ]
  },
  {
   "cell_type": "code",
   "execution_count": 70,
   "id": "69a00da0-ecb6-45f7-bbf7-e98abf66df08",
   "metadata": {},
   "outputs": [
    {
     "data": {
      "text/plain": [
       "torch.Size([4, 784])"
      ]
     },
     "execution_count": 70,
     "metadata": {},
     "output_type": "execute_result"
    }
   ],
   "source": [
    "# create a mini batch for testing \n",
    "batch = train_x[:4]\n",
    "batch.shape"
   ]
  },
  {
   "cell_type": "code",
   "execution_count": 71,
   "id": "aafa648e-c383-4f08-8bf5-8539905fc7f5",
   "metadata": {},
   "outputs": [
    {
     "data": {
      "text/plain": [
       "tensor([[-2.1876],\n",
       "        [-8.3973],\n",
       "        [ 2.5000],\n",
       "        [-4.9473]], grad_fn=<AddBackward0>)"
      ]
     },
     "execution_count": 71,
     "metadata": {},
     "output_type": "execute_result"
    }
   ],
   "source": [
    "preds = linear1(batch)\n",
    "preds"
   ]
  },
  {
   "cell_type": "code",
   "execution_count": 72,
   "id": "f1354555-ff22-4f01-b023-d806d8c6bcff",
   "metadata": {},
   "outputs": [
    {
     "data": {
      "text/plain": [
       "tensor(0.7419, grad_fn=<MeanBackward0>)"
      ]
     },
     "execution_count": 72,
     "metadata": {},
     "output_type": "execute_result"
    }
   ],
   "source": [
    "loss = mnist_loss(preds, train_y[:4])\n",
    "loss"
   ]
  },
  {
   "cell_type": "code",
   "execution_count": 73,
   "id": "bc6d560a-e485-427f-ae0b-9cf98f59eab2",
   "metadata": {},
   "outputs": [
    {
     "data": {
      "text/plain": [
       "(torch.Size([784, 1]), tensor(-0.0061), tensor([-0.0420]))"
      ]
     },
     "execution_count": 73,
     "metadata": {},
     "output_type": "execute_result"
    }
   ],
   "source": [
    "loss.backward()\n",
    "weights.grad.shape, weights.grad.mean(), bias.grad"
   ]
  },
  {
   "cell_type": "code",
   "execution_count": 74,
   "id": "6c5a48a2-b300-43d0-a91f-9244e08ba283",
   "metadata": {},
   "outputs": [],
   "source": [
    "def calc_grad(xb, yb, model):\n",
    "    preds = model(xb)\n",
    "    loss = mnist_loss(preds, yb)\n",
    "    weights.grad.zero_()\n",
    "    bias.grad.zero_()\n",
    "    loss.backward()"
   ]
  },
  {
   "cell_type": "code",
   "execution_count": 75,
   "id": "f89d6d8b-3ccc-4d84-a7db-39b9c5002fef",
   "metadata": {},
   "outputs": [
    {
     "data": {
      "text/plain": [
       "(tensor(-0.0061), tensor([-0.0420]))"
      ]
     },
     "execution_count": 75,
     "metadata": {},
     "output_type": "execute_result"
    }
   ],
   "source": [
    "calc_grad(batch, train_y[:4], linear1)\n",
    "weights.grad.mean(), bias.grad"
   ]
  },
  {
   "cell_type": "code",
   "execution_count": 76,
   "id": "14731631-9b9d-475c-8770-463604eb5e70",
   "metadata": {},
   "outputs": [],
   "source": [
    "def train_epoch(model, lr, params):\n",
    "    for xb, yb in dl:\n",
    "        calc_grad(xb, yb, model)\n",
    "        for p in params:\n",
    "            p.data -= p.grad * lr\n",
    "            p.grad.zero_()"
   ]
  },
  {
   "cell_type": "code",
   "execution_count": 77,
   "id": "3250c943-dfe9-47a3-9ed0-a1cefe891356",
   "metadata": {},
   "outputs": [],
   "source": [
    "def batch_accuracy(xb, yb):\n",
    "    preds = xb.sigmoid()\n",
    "    correct = (preds > 0.5) == yb\n",
    "    return correct.float().mean()"
   ]
  },
  {
   "cell_type": "code",
   "execution_count": 78,
   "id": "93bf97b7-1f65-4b3f-be9c-9e061b4370f7",
   "metadata": {},
   "outputs": [
    {
     "data": {
      "text/plain": [
       "tensor(0.2500)"
      ]
     },
     "execution_count": 78,
     "metadata": {},
     "output_type": "execute_result"
    }
   ],
   "source": [
    "batch_accuracy(linear1(batch), train_y[:4])"
   ]
  },
  {
   "cell_type": "code",
   "execution_count": 79,
   "id": "b14bedd2-77af-4765-9790-c8af09e87af0",
   "metadata": {},
   "outputs": [],
   "source": [
    "def validate_epoch(model):\n",
    "    accs = [batch_accuracy(model(xb), yb) for xb, yb in valid_dl]\n",
    "    return round(torch.stack(accs).mean().item(), 4)"
   ]
  },
  {
   "cell_type": "code",
   "execution_count": 80,
   "id": "0f68acee-3d82-4cc1-abda-47a20b2aa180",
   "metadata": {},
   "outputs": [
    {
     "data": {
      "text/plain": [
       "0.5264"
      ]
     },
     "execution_count": 80,
     "metadata": {},
     "output_type": "execute_result"
    }
   ],
   "source": [
    "validate_epoch(linear1)"
   ]
  },
  {
   "cell_type": "code",
   "execution_count": 81,
   "id": "03667886-6c21-4dd1-8d32-feecdfb9a9b1",
   "metadata": {},
   "outputs": [
    {
     "data": {
      "text/plain": [
       "0.6663"
      ]
     },
     "execution_count": 81,
     "metadata": {},
     "output_type": "execute_result"
    }
   ],
   "source": [
    "lr = 1.\n",
    "params = weights, bias\n",
    "train_epoch(linear1, lr, params)\n",
    "validate_epoch(linear1)"
   ]
  },
  {
   "cell_type": "code",
   "execution_count": 82,
   "id": "a917cdb5-4e09-479a-9c43-ba7d31011740",
   "metadata": {},
   "outputs": [
    {
     "name": "stdout",
     "output_type": "stream",
     "text": [
      "0.8265 0.89 0.9183 0.9276 0.9398 0.9466 0.9505 0.9525 0.9559 0.9578 0.9598 0.9608 0.9613 0.9618 0.9633 0.9637 0.9647 0.9657 0.9672 0.9677 "
     ]
    }
   ],
   "source": [
    "for i in range(20):\n",
    "    train_epoch(linear1, lr, params)\n",
    "    print(validate_epoch(linear1), end = ' ')"
   ]
  },
  {
   "cell_type": "markdown",
   "id": "9193463b-bb96-44ae-a593-feb9615df0cc",
   "metadata": {},
   "source": [
    "### Optimizer"
   ]
  },
  {
   "cell_type": "code",
   "execution_count": 99,
   "id": "7f1e352d-11bd-4e84-9075-38fde4dd2175",
   "metadata": {},
   "outputs": [],
   "source": [
    "linear_model = nn.Linear(28 * 28, 1)"
   ]
  },
  {
   "cell_type": "code",
   "execution_count": 100,
   "id": "dc80fecd-f13e-4bc3-9264-1f9bd718b66e",
   "metadata": {},
   "outputs": [
    {
     "name": "stdout",
     "output_type": "stream",
     "text": [
      "<generator object Module.parameters at 0x7f7f30425fc0>\n"
     ]
    },
    {
     "data": {
      "text/plain": [
       "(torch.Size([1, 784]), torch.Size([1]))"
      ]
     },
     "execution_count": 100,
     "metadata": {},
     "output_type": "execute_result"
    }
   ],
   "source": [
    "w, b = linear_model.parameters()\n",
    "print(linear_model.parameters())\n",
    "w.shape, b.shape"
   ]
  },
  {
   "cell_type": "code",
   "execution_count": 101,
   "id": "aa58bf16-4096-4266-89a5-3e3e6d293dbd",
   "metadata": {},
   "outputs": [],
   "source": [
    "class BasicOptim:\n",
    "    def __init__(self, params, lr):\n",
    "        self.params = list(params)\n",
    "        self.lr = lr\n",
    "\n",
    "    def step(self, *args, **kwargs):\n",
    "        for p in self.params:\n",
    "            p.data -= p.grad.data * self.lr\n",
    "\n",
    "    def zero_grad(self, *args, **kwargs):\n",
    "        for p in self.params:\n",
    "            p.grad = None"
   ]
  },
  {
   "cell_type": "code",
   "execution_count": 102,
   "id": "6f698852-15bc-41ea-9f6b-309af4807043",
   "metadata": {},
   "outputs": [],
   "source": [
    "optim = BasicOptim(linear_model.parameters(), lr)"
   ]
  },
  {
   "cell_type": "code",
   "execution_count": 103,
   "id": "c3933846-b624-4ef8-a290-e668aa7fbb7e",
   "metadata": {},
   "outputs": [],
   "source": [
    "def train_epoch(model):\n",
    "    for xb, yb in dl:\n",
    "        calc_grad(xb, yb, model)\n",
    "        optim.step()\n",
    "        optim.zero_grad()"
   ]
  },
  {
   "cell_type": "code",
   "execution_count": 104,
   "id": "da91f08b-7268-4b51-bc25-ab6799900d82",
   "metadata": {},
   "outputs": [
    {
     "data": {
      "text/plain": [
       "0.7423"
      ]
     },
     "execution_count": 104,
     "metadata": {},
     "output_type": "execute_result"
    }
   ],
   "source": [
    "validate_epoch(linear_model)"
   ]
  },
  {
   "cell_type": "code",
   "execution_count": 105,
   "id": "c105b9e7-d35b-43c5-ac00-82b29edf8ba4",
   "metadata": {},
   "outputs": [],
   "source": [
    "def train_model(model, epochs):\n",
    "    for i in range(epochs):\n",
    "        train_epoch(model)\n",
    "        print(validate_epoch(model), end=' ')"
   ]
  },
  {
   "cell_type": "code",
   "execution_count": 106,
   "id": "3538bc29-eeae-43f2-8ac5-9663c796af59",
   "metadata": {},
   "outputs": [
    {
     "name": "stdout",
     "output_type": "stream",
     "text": [
      "0.4932 0.7905 0.8594 0.917 0.937 0.9507 0.9565 0.9634 0.9658 0.9682 0.9707 0.9726 0.9736 0.9751 0.9761 0.9765 0.9775 0.978 0.978 0.9785 "
     ]
    }
   ],
   "source": [
    "train_model(linear_model, 20)"
   ]
  },
  {
   "cell_type": "code",
   "execution_count": 107,
   "id": "a807dde2-e43d-4be2-9ed9-f1ae64a4612e",
   "metadata": {},
   "outputs": [
    {
     "name": "stdout",
     "output_type": "stream",
     "text": [
      "0.4932 0.771 0.8569 0.9175 0.9365 0.9492 0.957 0.9634 0.9658 0.9678 0.9702 0.9731 0.9741 0.9751 0.9761 0.9765 0.9775 0.978 0.978 0.979 "
     ]
    }
   ],
   "source": [
    "# SGD from fastai is the same as BasicOptim\n",
    "linear_model = nn.Linear(28 * 28, 1)\n",
    "optim = SGD(linear_model.parameters(), lr)\n",
    "train_model(linear_model, 20)"
   ]
  },
  {
   "cell_type": "code",
   "execution_count": 108,
   "id": "1b27e506-34f5-4a3f-a200-691478655ddb",
   "metadata": {},
   "outputs": [],
   "source": [
    "dls = DataLoaders(dl, valid_dl)"
   ]
  },
  {
   "cell_type": "code",
   "execution_count": 109,
   "id": "a8980e60-a139-4b19-bba9-4e4d82891734",
   "metadata": {},
   "outputs": [],
   "source": [
    "learn = Learner(dls, nn.Linear(28 * 28, 1), opt_func=SGD, loss_func=mnist_loss, metrics=batch_accuracy)"
   ]
  },
  {
   "cell_type": "code",
   "execution_count": 110,
   "id": "0be6c503-3462-4c75-80c5-82b91b10ce43",
   "metadata": {},
   "outputs": [
    {
     "data": {
      "text/html": [
       "\n",
       "<style>\n",
       "    /* Turns off some styling */\n",
       "    progress {\n",
       "        /* gets rid of default border in Firefox and Opera. */\n",
       "        border: none;\n",
       "        /* Needs to be in here for Safari polyfill so background images work as expected. */\n",
       "        background-size: auto;\n",
       "    }\n",
       "    progress:not([value]), progress:not([value])::-webkit-progress-bar {\n",
       "        background: repeating-linear-gradient(45deg, #7e7e7e, #7e7e7e 10px, #5c5c5c 10px, #5c5c5c 20px);\n",
       "    }\n",
       "    .progress-bar-interrupted, .progress-bar-interrupted::-webkit-progress-bar {\n",
       "        background: #F44336;\n",
       "    }\n",
       "</style>\n"
      ],
      "text/plain": [
       "<IPython.core.display.HTML object>"
      ]
     },
     "metadata": {},
     "output_type": "display_data"
    },
    {
     "data": {
      "text/html": [
       "<table border=\"1\" class=\"dataframe\">\n",
       "  <thead>\n",
       "    <tr style=\"text-align: left;\">\n",
       "      <th>epoch</th>\n",
       "      <th>train_loss</th>\n",
       "      <th>valid_loss</th>\n",
       "      <th>batch_accuracy</th>\n",
       "      <th>time</th>\n",
       "    </tr>\n",
       "  </thead>\n",
       "  <tbody>\n",
       "    <tr>\n",
       "      <td>0</td>\n",
       "      <td>0.636885</td>\n",
       "      <td>0.503431</td>\n",
       "      <td>0.495584</td>\n",
       "      <td>00:00</td>\n",
       "    </tr>\n",
       "    <tr>\n",
       "      <td>1</td>\n",
       "      <td>0.504784</td>\n",
       "      <td>0.204224</td>\n",
       "      <td>0.820903</td>\n",
       "      <td>00:00</td>\n",
       "    </tr>\n",
       "    <tr>\n",
       "      <td>2</td>\n",
       "      <td>0.186399</td>\n",
       "      <td>0.177152</td>\n",
       "      <td>0.840039</td>\n",
       "      <td>00:00</td>\n",
       "    </tr>\n",
       "    <tr>\n",
       "      <td>3</td>\n",
       "      <td>0.082328</td>\n",
       "      <td>0.105222</td>\n",
       "      <td>0.914132</td>\n",
       "      <td>00:00</td>\n",
       "    </tr>\n",
       "    <tr>\n",
       "      <td>4</td>\n",
       "      <td>0.043894</td>\n",
       "      <td>0.077203</td>\n",
       "      <td>0.934249</td>\n",
       "      <td>00:00</td>\n",
       "    </tr>\n",
       "    <tr>\n",
       "      <td>5</td>\n",
       "      <td>0.028838</td>\n",
       "      <td>0.062021</td>\n",
       "      <td>0.947007</td>\n",
       "      <td>00:00</td>\n",
       "    </tr>\n",
       "    <tr>\n",
       "      <td>6</td>\n",
       "      <td>0.022622</td>\n",
       "      <td>0.052503</td>\n",
       "      <td>0.954858</td>\n",
       "      <td>00:00</td>\n",
       "    </tr>\n",
       "    <tr>\n",
       "      <td>7</td>\n",
       "      <td>0.019842</td>\n",
       "      <td>0.046157</td>\n",
       "      <td>0.962218</td>\n",
       "      <td>00:00</td>\n",
       "    </tr>\n",
       "    <tr>\n",
       "      <td>8</td>\n",
       "      <td>0.018420</td>\n",
       "      <td>0.041703</td>\n",
       "      <td>0.965653</td>\n",
       "      <td>00:00</td>\n",
       "    </tr>\n",
       "    <tr>\n",
       "      <td>9</td>\n",
       "      <td>0.017562</td>\n",
       "      <td>0.038427</td>\n",
       "      <td>0.968106</td>\n",
       "      <td>00:00</td>\n",
       "    </tr>\n",
       "  </tbody>\n",
       "</table>"
      ],
      "text/plain": [
       "<IPython.core.display.HTML object>"
      ]
     },
     "metadata": {},
     "output_type": "display_data"
    }
   ],
   "source": [
    "learn.fit(10, lr)"
   ]
  },
  {
   "cell_type": "markdown",
   "id": "885b74a0-c568-4a67-9fe4-857d6d1a2c53",
   "metadata": {},
   "source": [
    "### Add a Linearity"
   ]
  },
  {
   "cell_type": "code",
   "execution_count": 112,
   "id": "11f99701-2d33-471b-8604-74dd0b575013",
   "metadata": {},
   "outputs": [],
   "source": [
    "simple_net = nn.Sequential(\n",
    "    nn.Linear(28 * 28, 30),\n",
    "    nn.ReLU(),\n",
    "    nn.Linear(30, 1)\n",
    ")"
   ]
  },
  {
   "cell_type": "code",
   "execution_count": 113,
   "id": "cf92d3e0-30d6-448c-9266-aa40f548291f",
   "metadata": {},
   "outputs": [],
   "source": [
    "learn = Learner(dls, simple_net, opt_func=SGD, loss_func=mnist_loss, metrics=batch_accuracy)"
   ]
  },
  {
   "cell_type": "code",
   "execution_count": 114,
   "id": "fda4fb63-a674-4f99-8f42-3f19a04a2c4a",
   "metadata": {},
   "outputs": [
    {
     "data": {
      "text/html": [
       "\n",
       "<style>\n",
       "    /* Turns off some styling */\n",
       "    progress {\n",
       "        /* gets rid of default border in Firefox and Opera. */\n",
       "        border: none;\n",
       "        /* Needs to be in here for Safari polyfill so background images work as expected. */\n",
       "        background-size: auto;\n",
       "    }\n",
       "    progress:not([value]), progress:not([value])::-webkit-progress-bar {\n",
       "        background: repeating-linear-gradient(45deg, #7e7e7e, #7e7e7e 10px, #5c5c5c 10px, #5c5c5c 20px);\n",
       "    }\n",
       "    .progress-bar-interrupted, .progress-bar-interrupted::-webkit-progress-bar {\n",
       "        background: #F44336;\n",
       "    }\n",
       "</style>\n"
      ],
      "text/plain": [
       "<IPython.core.display.HTML object>"
      ]
     },
     "metadata": {},
     "output_type": "display_data"
    },
    {
     "data": {
      "text/html": [
       "<table border=\"1\" class=\"dataframe\">\n",
       "  <thead>\n",
       "    <tr style=\"text-align: left;\">\n",
       "      <th>epoch</th>\n",
       "      <th>train_loss</th>\n",
       "      <th>valid_loss</th>\n",
       "      <th>batch_accuracy</th>\n",
       "      <th>time</th>\n",
       "    </tr>\n",
       "  </thead>\n",
       "  <tbody>\n",
       "    <tr>\n",
       "      <td>0</td>\n",
       "      <td>0.303961</td>\n",
       "      <td>0.412172</td>\n",
       "      <td>0.504416</td>\n",
       "      <td>00:00</td>\n",
       "    </tr>\n",
       "    <tr>\n",
       "      <td>1</td>\n",
       "      <td>0.144412</td>\n",
       "      <td>0.218978</td>\n",
       "      <td>0.818449</td>\n",
       "      <td>00:00</td>\n",
       "    </tr>\n",
       "    <tr>\n",
       "      <td>2</td>\n",
       "      <td>0.080239</td>\n",
       "      <td>0.110960</td>\n",
       "      <td>0.918057</td>\n",
       "      <td>00:00</td>\n",
       "    </tr>\n",
       "    <tr>\n",
       "      <td>3</td>\n",
       "      <td>0.052897</td>\n",
       "      <td>0.075492</td>\n",
       "      <td>0.941609</td>\n",
       "      <td>00:00</td>\n",
       "    </tr>\n",
       "    <tr>\n",
       "      <td>4</td>\n",
       "      <td>0.040186</td>\n",
       "      <td>0.059242</td>\n",
       "      <td>0.958292</td>\n",
       "      <td>00:00</td>\n",
       "    </tr>\n",
       "    <tr>\n",
       "      <td>5</td>\n",
       "      <td>0.033672</td>\n",
       "      <td>0.050093</td>\n",
       "      <td>0.964181</td>\n",
       "      <td>00:00</td>\n",
       "    </tr>\n",
       "    <tr>\n",
       "      <td>6</td>\n",
       "      <td>0.029913</td>\n",
       "      <td>0.044328</td>\n",
       "      <td>0.966634</td>\n",
       "      <td>00:00</td>\n",
       "    </tr>\n",
       "    <tr>\n",
       "      <td>7</td>\n",
       "      <td>0.027462</td>\n",
       "      <td>0.040387</td>\n",
       "      <td>0.968597</td>\n",
       "      <td>00:00</td>\n",
       "    </tr>\n",
       "    <tr>\n",
       "      <td>8</td>\n",
       "      <td>0.025692</td>\n",
       "      <td>0.037519</td>\n",
       "      <td>0.969578</td>\n",
       "      <td>00:00</td>\n",
       "    </tr>\n",
       "    <tr>\n",
       "      <td>9</td>\n",
       "      <td>0.024320</td>\n",
       "      <td>0.035326</td>\n",
       "      <td>0.969578</td>\n",
       "      <td>00:00</td>\n",
       "    </tr>\n",
       "    <tr>\n",
       "      <td>10</td>\n",
       "      <td>0.023206</td>\n",
       "      <td>0.033587</td>\n",
       "      <td>0.971541</td>\n",
       "      <td>00:00</td>\n",
       "    </tr>\n",
       "    <tr>\n",
       "      <td>11</td>\n",
       "      <td>0.022277</td>\n",
       "      <td>0.032159</td>\n",
       "      <td>0.973503</td>\n",
       "      <td>00:00</td>\n",
       "    </tr>\n",
       "    <tr>\n",
       "      <td>12</td>\n",
       "      <td>0.021485</td>\n",
       "      <td>0.030957</td>\n",
       "      <td>0.974485</td>\n",
       "      <td>00:00</td>\n",
       "    </tr>\n",
       "    <tr>\n",
       "      <td>13</td>\n",
       "      <td>0.020801</td>\n",
       "      <td>0.029923</td>\n",
       "      <td>0.974485</td>\n",
       "      <td>00:00</td>\n",
       "    </tr>\n",
       "    <tr>\n",
       "      <td>14</td>\n",
       "      <td>0.020202</td>\n",
       "      <td>0.029019</td>\n",
       "      <td>0.974975</td>\n",
       "      <td>00:00</td>\n",
       "    </tr>\n",
       "    <tr>\n",
       "      <td>15</td>\n",
       "      <td>0.019672</td>\n",
       "      <td>0.028222</td>\n",
       "      <td>0.975957</td>\n",
       "      <td>00:00</td>\n",
       "    </tr>\n",
       "    <tr>\n",
       "      <td>16</td>\n",
       "      <td>0.019199</td>\n",
       "      <td>0.027511</td>\n",
       "      <td>0.976938</td>\n",
       "      <td>00:00</td>\n",
       "    </tr>\n",
       "    <tr>\n",
       "      <td>17</td>\n",
       "      <td>0.018772</td>\n",
       "      <td>0.026873</td>\n",
       "      <td>0.977429</td>\n",
       "      <td>00:00</td>\n",
       "    </tr>\n",
       "    <tr>\n",
       "      <td>18</td>\n",
       "      <td>0.018386</td>\n",
       "      <td>0.026296</td>\n",
       "      <td>0.977920</td>\n",
       "      <td>00:00</td>\n",
       "    </tr>\n",
       "    <tr>\n",
       "      <td>19</td>\n",
       "      <td>0.018033</td>\n",
       "      <td>0.025771</td>\n",
       "      <td>0.977920</td>\n",
       "      <td>00:00</td>\n",
       "    </tr>\n",
       "    <tr>\n",
       "      <td>20</td>\n",
       "      <td>0.017709</td>\n",
       "      <td>0.025292</td>\n",
       "      <td>0.978410</td>\n",
       "      <td>00:00</td>\n",
       "    </tr>\n",
       "    <tr>\n",
       "      <td>21</td>\n",
       "      <td>0.017409</td>\n",
       "      <td>0.024854</td>\n",
       "      <td>0.978901</td>\n",
       "      <td>00:00</td>\n",
       "    </tr>\n",
       "    <tr>\n",
       "      <td>22</td>\n",
       "      <td>0.017131</td>\n",
       "      <td>0.024450</td>\n",
       "      <td>0.979392</td>\n",
       "      <td>00:00</td>\n",
       "    </tr>\n",
       "    <tr>\n",
       "      <td>23</td>\n",
       "      <td>0.016871</td>\n",
       "      <td>0.024077</td>\n",
       "      <td>0.979392</td>\n",
       "      <td>00:00</td>\n",
       "    </tr>\n",
       "    <tr>\n",
       "      <td>24</td>\n",
       "      <td>0.016627</td>\n",
       "      <td>0.023731</td>\n",
       "      <td>0.980373</td>\n",
       "      <td>00:00</td>\n",
       "    </tr>\n",
       "    <tr>\n",
       "      <td>25</td>\n",
       "      <td>0.016399</td>\n",
       "      <td>0.023409</td>\n",
       "      <td>0.980373</td>\n",
       "      <td>00:00</td>\n",
       "    </tr>\n",
       "    <tr>\n",
       "      <td>26</td>\n",
       "      <td>0.016183</td>\n",
       "      <td>0.023110</td>\n",
       "      <td>0.981354</td>\n",
       "      <td>00:00</td>\n",
       "    </tr>\n",
       "    <tr>\n",
       "      <td>27</td>\n",
       "      <td>0.015979</td>\n",
       "      <td>0.022831</td>\n",
       "      <td>0.981354</td>\n",
       "      <td>00:00</td>\n",
       "    </tr>\n",
       "    <tr>\n",
       "      <td>28</td>\n",
       "      <td>0.015785</td>\n",
       "      <td>0.022571</td>\n",
       "      <td>0.981354</td>\n",
       "      <td>00:00</td>\n",
       "    </tr>\n",
       "    <tr>\n",
       "      <td>29</td>\n",
       "      <td>0.015602</td>\n",
       "      <td>0.022327</td>\n",
       "      <td>0.981354</td>\n",
       "      <td>00:00</td>\n",
       "    </tr>\n",
       "    <tr>\n",
       "      <td>30</td>\n",
       "      <td>0.015426</td>\n",
       "      <td>0.022098</td>\n",
       "      <td>0.981845</td>\n",
       "      <td>00:00</td>\n",
       "    </tr>\n",
       "    <tr>\n",
       "      <td>31</td>\n",
       "      <td>0.015259</td>\n",
       "      <td>0.021884</td>\n",
       "      <td>0.982336</td>\n",
       "      <td>00:00</td>\n",
       "    </tr>\n",
       "    <tr>\n",
       "      <td>32</td>\n",
       "      <td>0.015099</td>\n",
       "      <td>0.021682</td>\n",
       "      <td>0.982826</td>\n",
       "      <td>00:00</td>\n",
       "    </tr>\n",
       "    <tr>\n",
       "      <td>33</td>\n",
       "      <td>0.014946</td>\n",
       "      <td>0.021493</td>\n",
       "      <td>0.982826</td>\n",
       "      <td>00:00</td>\n",
       "    </tr>\n",
       "    <tr>\n",
       "      <td>34</td>\n",
       "      <td>0.014799</td>\n",
       "      <td>0.021314</td>\n",
       "      <td>0.983317</td>\n",
       "      <td>00:00</td>\n",
       "    </tr>\n",
       "    <tr>\n",
       "      <td>35</td>\n",
       "      <td>0.014658</td>\n",
       "      <td>0.021145</td>\n",
       "      <td>0.983317</td>\n",
       "      <td>00:00</td>\n",
       "    </tr>\n",
       "    <tr>\n",
       "      <td>36</td>\n",
       "      <td>0.014522</td>\n",
       "      <td>0.020985</td>\n",
       "      <td>0.983317</td>\n",
       "      <td>00:00</td>\n",
       "    </tr>\n",
       "    <tr>\n",
       "      <td>37</td>\n",
       "      <td>0.014391</td>\n",
       "      <td>0.020834</td>\n",
       "      <td>0.982336</td>\n",
       "      <td>00:00</td>\n",
       "    </tr>\n",
       "    <tr>\n",
       "      <td>38</td>\n",
       "      <td>0.014265</td>\n",
       "      <td>0.020690</td>\n",
       "      <td>0.982336</td>\n",
       "      <td>00:00</td>\n",
       "    </tr>\n",
       "    <tr>\n",
       "      <td>39</td>\n",
       "      <td>0.014143</td>\n",
       "      <td>0.020553</td>\n",
       "      <td>0.982826</td>\n",
       "      <td>00:00</td>\n",
       "    </tr>\n",
       "  </tbody>\n",
       "</table>"
      ],
      "text/plain": [
       "<IPython.core.display.HTML object>"
      ]
     },
     "metadata": {},
     "output_type": "display_data"
    }
   ],
   "source": [
    "learn.fit(40, 0.1)"
   ]
  },
  {
   "cell_type": "code",
   "execution_count": 121,
   "id": "60bc7bed-47f2-4a29-b38a-533e3e560777",
   "metadata": {},
   "outputs": [
    {
     "data": {
      "text/plain": [
       "[<matplotlib.lines.Line2D at 0x7f7f2076ff90>]"
      ]
     },
     "execution_count": 121,
     "metadata": {},
     "output_type": "execute_result"
    },
    {
     "data": {
      "image/png": "[encoded data removed]",
      "text/plain": [
       "<Figure size 640x480 with 1 Axes>"
      ]
     },
     "metadata": {},
     "output_type": "display_data"
    }
   ],
   "source": [
    "plt.plot(L(learn.recorder.values).itemgot(2))"
   ]
  },
  {
   "cell_type": "markdown",
   "id": "3eab9ef5-a1ab-48e7-be15-458544232174",
   "metadata": {},
   "source": [
    "### Going Deeper"
   ]
  },
  {
   "cell_type": "code",
   "execution_count": 125,
   "id": "b62e55c5-6ac9-4c1b-b0b8-5972747730b6",
   "metadata": {},
   "outputs": [
    {
     "data": {
      "text/html": [
       "\n",
       "<style>\n",
       "    /* Turns off some styling */\n",
       "    progress {\n",
       "        /* gets rid of default border in Firefox and Opera. */\n",
       "        border: none;\n",
       "        /* Needs to be in here for Safari polyfill so background images work as expected. */\n",
       "        background-size: auto;\n",
       "    }\n",
       "    progress:not([value]), progress:not([value])::-webkit-progress-bar {\n",
       "        background: repeating-linear-gradient(45deg, #7e7e7e, #7e7e7e 10px, #5c5c5c 10px, #5c5c5c 20px);\n",
       "    }\n",
       "    .progress-bar-interrupted, .progress-bar-interrupted::-webkit-progress-bar {\n",
       "        background: #F44336;\n",
       "    }\n",
       "</style>\n"
      ],
      "text/plain": [
       "<IPython.core.display.HTML object>"
      ]
     },
     "metadata": {},
     "output_type": "display_data"
    },
    {
     "data": {
      "text/html": [
       "<table border=\"1\" class=\"dataframe\">\n",
       "  <thead>\n",
       "    <tr style=\"text-align: left;\">\n",
       "      <th>epoch</th>\n",
       "      <th>train_loss</th>\n",
       "      <th>valid_loss</th>\n",
       "      <th>accuracy</th>\n",
       "      <th>time</th>\n",
       "    </tr>\n",
       "  </thead>\n",
       "  <tbody>\n",
       "    <tr>\n",
       "      <td>0</td>\n",
       "      <td>0.069352</td>\n",
       "      <td>0.009068</td>\n",
       "      <td>0.997547</td>\n",
       "      <td>00:10</td>\n",
       "    </tr>\n",
       "  </tbody>\n",
       "</table>"
      ],
      "text/plain": [
       "<IPython.core.display.HTML object>"
      ]
     },
     "metadata": {},
     "output_type": "display_data"
    }
   ],
   "source": [
    "dls = ImageDataLoaders.from_folder(path)\n",
    "learn = vision_learner(dls, resnet18, pretrained=False, loss_func=F.cross_entropy, metrics=accuracy)\n",
    "learn.fit_one_cycle(1, 0.1)"
   ]
  }
 ],
 "metadata": {
  "kernelspec": {
   "display_name": "Python 3 (ipykernel)",
   "language": "python",
   "name": "python3"
  },
  "language_info": {
   "codemirror_mode": {
    "name": "ipython",
    "version": 3
   },
   "file_extension": ".py",
   "mimetype": "text/x-python",
   "name": "python",
   "nbconvert_exporter": "python",
   "pygments_lexer": "ipython3",
   "version": "3.11.2"
  }
 },
 "nbformat": 4,
 "nbformat_minor": 5
}
